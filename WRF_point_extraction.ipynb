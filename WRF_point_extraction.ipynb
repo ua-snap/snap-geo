{
 "cells": [
  {
   "cell_type": "markdown",
   "id": "5481f9e7-ee7a-4ad3-bc9f-3556bef8f69d",
   "metadata": {},
   "source": [
    "# Point extraction of 20km WRF data\n",
    "\n",
    "Extracting data from WRF datasets at points given by latitude and longitude coordinates."
   ]
  },
  {
   "cell_type": "code",
   "execution_count": 1,
   "id": "f98a89b7-eb52-4166-9785-f7d8c03bde0f",
   "metadata": {},
   "outputs": [],
   "source": [
    "import xarray as xr\n",
    "from pyproj import Transformer\n",
    "from pyproj.crs import CRS\n",
    "import pandas as pd"
   ]
  },
  {
   "cell_type": "code",
   "execution_count": 2,
   "id": "ea7003ca-1846-40cf-af9b-f9b4a06d565b",
   "metadata": {},
   "outputs": [],
   "source": [
    "# path to your WRF data file\n",
    "fp = \"/rcs/project_data/wrf_data/daily/pcpt/pcpt_daily_wrf_ERA-Interim_historical_1979.nc\"\n",
    "\n",
    "# just giving these some names for column names of pandas df later\n",
    "wgs84_coords = {\n",
    "    \"p1\": (65.857, -147.86),\n",
    "    \"p2\": (60.128, -149.417),\n",
    "    \"p3\": (66.565, -152.643),\n",
    "    \"p4\": (59.24, -135.51),\n",
    "    \"p5\": (67.37, -165.54),\n",
    "}"
   ]
  },
  {
   "cell_type": "markdown",
   "id": "0c0fa03a-5c2c-4e4d-aa08-1e22e8ad684e",
   "metadata": {},
   "source": [
    "The WRF crs is obtained from the proj4 string in the dataset attributes, and then the `pyproj.Transformer` class can be used to project the coordinates to the CRS used in the `xarray` dataset. \n",
    "\n",
    "The `xarray.DataSet` has a `.sel` method to query the data, but make sure to use `method=\"nearest\"` to choose the nearest grid cell to the specified coordinates, otherwise it will look for the specified coordinate exactly. "
   ]
  },
  {
   "cell_type": "code",
   "execution_count": 3,
   "id": "1e1350dd-cb94-4314-868e-0d209572e967",
   "metadata": {},
   "outputs": [],
   "source": [
    "with xr.open_dataset(fp) as ds:\n",
    "    # project WGS84 coordinates using proj string from WRF file\n",
    "    wrf_proj_str = ds.attrs[\"proj_parameters\"]\n",
    "    wrf_crs = CRS.from_proj4(wrf_proj_str)\n",
    "    transformer = Transformer.from_crs(\"epsg:4326\", wrf_crs)\n",
    "    wrf_coords = {\n",
    "        p_name: transformer.transform(*coords)\n",
    "        for p_name, coords in wgs84_coords.items()\n",
    "    }\n",
    "\n",
    "    # query xarray dataset using \"method\" parameter to\n",
    "    #   choose nearest cell to each coordinate\n",
    "    pcpt_data = {\n",
    "        p_name: ds.pcpt.sel(xc=coords[0], yc=coords[1], method=\"nearest\").values\n",
    "        for p_name, coords in wrf_coords.items()\n",
    "    }\n",
    "\n",
    "    # make a pandas dataframe with time series from points as columns\n",
    "    df = pd.DataFrame(pcpt_data, index=ds.time.values)"
   ]
  },
  {
   "cell_type": "code",
   "execution_count": 4,
   "id": "43212b69-bdd2-44f4-a04b-39035a79976e",
   "metadata": {},
   "outputs": [
    {
     "data": {
      "text/html": [
       "<div>\n",
       "<style scoped>\n",
       "    .dataframe tbody tr th:only-of-type {\n",
       "        vertical-align: middle;\n",
       "    }\n",
       "\n",
       "    .dataframe tbody tr th {\n",
       "        vertical-align: top;\n",
       "    }\n",
       "\n",
       "    .dataframe thead th {\n",
       "        text-align: right;\n",
       "    }\n",
       "</style>\n",
       "<table border=\"1\" class=\"dataframe\">\n",
       "  <thead>\n",
       "    <tr style=\"text-align: right;\">\n",
       "      <th></th>\n",
       "      <th>p1</th>\n",
       "      <th>p2</th>\n",
       "      <th>p3</th>\n",
       "      <th>p4</th>\n",
       "      <th>p5</th>\n",
       "    </tr>\n",
       "  </thead>\n",
       "  <tbody>\n",
       "    <tr>\n",
       "      <th>1979-01-02</th>\n",
       "      <td>0.006</td>\n",
       "      <td>0.0990</td>\n",
       "      <td>1.492</td>\n",
       "      <td>0.063</td>\n",
       "      <td>1.0800</td>\n",
       "    </tr>\n",
       "    <tr>\n",
       "      <th>1979-01-03</th>\n",
       "      <td>0.004</td>\n",
       "      <td>0.0000</td>\n",
       "      <td>0.002</td>\n",
       "      <td>0.000</td>\n",
       "      <td>0.1980</td>\n",
       "    </tr>\n",
       "    <tr>\n",
       "      <th>1979-01-04</th>\n",
       "      <td>0.000</td>\n",
       "      <td>0.0000</td>\n",
       "      <td>0.000</td>\n",
       "      <td>0.000</td>\n",
       "      <td>0.0235</td>\n",
       "    </tr>\n",
       "    <tr>\n",
       "      <th>1979-01-05</th>\n",
       "      <td>0.000</td>\n",
       "      <td>0.1800</td>\n",
       "      <td>0.000</td>\n",
       "      <td>0.000</td>\n",
       "      <td>0.0000</td>\n",
       "    </tr>\n",
       "    <tr>\n",
       "      <th>1979-01-06</th>\n",
       "      <td>0.006</td>\n",
       "      <td>0.0743</td>\n",
       "      <td>0.000</td>\n",
       "      <td>0.000</td>\n",
       "      <td>0.0302</td>\n",
       "    </tr>\n",
       "  </tbody>\n",
       "</table>\n",
       "</div>"
      ],
      "text/plain": [
       "               p1      p2     p3     p4      p5\n",
       "1979-01-02  0.006  0.0990  1.492  0.063  1.0800\n",
       "1979-01-03  0.004  0.0000  0.002  0.000  0.1980\n",
       "1979-01-04  0.000  0.0000  0.000  0.000  0.0235\n",
       "1979-01-05  0.000  0.1800  0.000  0.000  0.0000\n",
       "1979-01-06  0.006  0.0743  0.000  0.000  0.0302"
      ]
     },
     "execution_count": 4,
     "metadata": {},
     "output_type": "execute_result"
    }
   ],
   "source": [
    "df.head()"
   ]
  },
  {
   "cell_type": "code",
   "execution_count": null,
   "id": "7a666b65-98c5-45d8-ad4c-2701fb804815",
   "metadata": {},
   "outputs": [],
   "source": []
  }
 ],
 "metadata": {
  "kernelspec": {
   "display_name": "snap-geo",
   "language": "python",
   "name": "snap-geo"
  },
  "language_info": {
   "codemirror_mode": {
    "name": "ipython",
    "version": 3
   },
   "file_extension": ".py",
   "mimetype": "text/x-python",
   "name": "python",
   "nbconvert_exporter": "python",
   "pygments_lexer": "ipython3",
   "version": "3.8.3"
  }
 },
 "nbformat": 4,
 "nbformat_minor": 5
}
