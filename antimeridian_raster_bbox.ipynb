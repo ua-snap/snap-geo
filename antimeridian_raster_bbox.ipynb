{
 "cells": [
  {
   "cell_type": "markdown",
   "id": "aed56e8a-7080-4e8e-bbc4-ce5604423c6f",
   "metadata": {},
   "source": [
    "# Get the bounding box of a projected raster that crosses the antimeridian\n",
    "\n",
    "This notebook demonstrates a hacky method to convert the bounds from a projected raster (demonstrated with a geotiff) that crosses the antimeridian in WGS84 space."
   ]
  },
  {
   "cell_type": "markdown",
   "id": "57c4b469-9972-47de-9120-c725a4c77053",
   "metadata": {},
   "source": [
    "### The issue with an existing method\n",
    "\n",
    "A typical way to do this in python would be to simply use the `rasterio.warp.transform_bounds` function to transform the bounds of a raster. Here is an example raster:"
   ]
  },
  {
   "cell_type": "code",
   "execution_count": 1,
   "id": "bc6042ea-9f95-41cb-8ecb-6c3c27c26c69",
   "metadata": {},
   "outputs": [
    {
     "name": "stdout",
     "output_type": "stream",
     "text": [
      "Driver: GTiff/GeoTIFF\n",
      "Files: data/tas_mean_C_ar5_5ModelAvg_rcp85_01_2006.tif\n",
      "Size is 398, 211\n",
      "Coordinate System is:\n",
      "PROJCRS[\"NAD83 / Alaska Albers\",\n",
      "    BASEGEOGCRS[\"NAD83\",\n",
      "        DATUM[\"North American Datum 1983\",\n",
      "            ELLIPSOID[\"GRS 1980\",6378137,298.257222101,\n",
      "                LENGTHUNIT[\"metre\",1]]],\n",
      "        PRIMEM[\"Greenwich\",0,\n",
      "            ANGLEUNIT[\"degree\",0.0174532925199433]],\n",
      "        ID[\"EPSG\",4269]],\n",
      "    CONVERSION[\"Alaska Albers (meters)\",\n",
      "        METHOD[\"Albers Equal Area\",\n",
      "            ID[\"EPSG\",9822]],\n",
      "        PARAMETER[\"Latitude of false origin\",50,\n",
      "            ANGLEUNIT[\"degree\",0.0174532925199433],\n",
      "            ID[\"EPSG\",8821]],\n",
      "        PARAMETER[\"Longitude of false origin\",-154,\n",
      "            ANGLEUNIT[\"degree\",0.0174532925199433],\n",
      "            ID[\"EPSG\",8822]],\n",
      "        PARAMETER[\"Latitude of 1st standard parallel\",55,\n",
      "            ANGLEUNIT[\"degree\",0.0174532925199433],\n",
      "            ID[\"EPSG\",8823]],\n",
      "        PARAMETER[\"Latitude of 2nd standard parallel\",65,\n",
      "            ANGLEUNIT[\"degree\",0.0174532925199433],\n",
      "            ID[\"EPSG\",8824]],\n",
      "        PARAMETER[\"Easting at false origin\",0,\n",
      "            LENGTHUNIT[\"metre\",1],\n",
      "            ID[\"EPSG\",8826]],\n",
      "        PARAMETER[\"Northing at false origin\",0,\n",
      "            LENGTHUNIT[\"metre\",1],\n",
      "            ID[\"EPSG\",8827]]],\n",
      "    CS[Cartesian,2],\n",
      "        AXIS[\"easting (X)\",east,\n",
      "            ORDER[1],\n",
      "            LENGTHUNIT[\"metre\",1]],\n",
      "        AXIS[\"northing (Y)\",north,\n",
      "            ORDER[2],\n",
      "            LENGTHUNIT[\"metre\",1]],\n",
      "    USAGE[\n",
      "        SCOPE[\"Topographic mapping (small scale).\"],\n",
      "        AREA[\"United States (USA) - Alaska.\"],\n",
      "        BBOX[51.3,172.42,71.4,-129.99]],\n",
      "    ID[\"EPSG\",3338]]\n",
      "Data axis to CRS axis mapping: 1,2\n",
      "Origin = (-2168722.721062932629138,3491266.340399999171495)\n",
      "Pixel Size = (15000.000000000000000,-15000.000000000000000)\n",
      "Metadata:\n",
      "  AREA_OR_POINT=Area\n",
      "Image Structure Metadata:\n",
      "  COMPRESSION=LZW\n",
      "  INTERLEAVE=BAND\n",
      "Corner Coordinates:\n",
      "Upper Left  (-2168722.721, 3491266.340) (137d49'50.24\"E, 70d24' 9.04\"N)\n",
      "Lower Left  (-2168722.721,  326266.340) (176d 2'46.78\"E, 48d26'36.01\"N)\n",
      "Upper Right ( 3801277.279, 3491266.340) ( 71d45'54.31\"W, 57d 2'54.03\"N)\n",
      "Lower Right ( 3801277.279,  326266.340) (107d15'19.28\"W, 40d 9'37.70\"N)\n",
      "Center      (  816277.279, 1908766.340) (135d45' 0.31\"W, 66d 7'15.27\"N)\n",
      "Band 1 Block=398x5 Type=Float32, ColorInterp=Gray\n",
      "  NoData Value=-9999\n"
     ]
    }
   ],
   "source": [
    "!gdalinfo data/tas_mean_C_ar5_5ModelAvg_rcp85_01_2006.tif"
   ]
  },
  {
   "cell_type": "markdown",
   "id": "641a89b0-7fd9-4e05-9794-ef306a0d3b44",
   "metadata": {},
   "source": [
    "Using the `transform_bounds` function, we can get to WGS84:"
   ]
  },
  {
   "cell_type": "code",
   "execution_count": 2,
   "id": "c4a52f74-2228-4e40-871a-86363da5176d",
   "metadata": {},
   "outputs": [
    {
     "name": "stdout",
     "output_type": "stream",
     "text": [
      "WSEN: [-179.9402   40.1605  179.3829   82.593 ]\n"
     ]
    }
   ],
   "source": [
    "import numpy as np\n",
    "import rasterio as rio\n",
    "from rasterio.crs import CRS\n",
    "from rasterio.warp import transform_bounds\n",
    "\n",
    "\n",
    "with rio.open(\"data/tas_mean_C_ar5_5ModelAvg_rcp85_01_2006.tif\") as src:\n",
    "    src_crs = src.crs\n",
    "    src_bounds = src.bounds\n",
    "\n",
    "dst_crs = CRS.from_epsg(4326)\n",
    "print(\"WSEN:\", np.round(transform_bounds(src_crs, dst_crs, *src_bounds), 4))"
   ]
  },
  {
   "cell_type": "markdown",
   "id": "76cb9855-9ccc-4cb5-8398-2a5915755b97",
   "metadata": {},
   "source": [
    "The issue here is that the most western and eastern bounds are simply min / max values on the [-180, 180] scale. We know there are grid cells that are further \"west\" of the easternmost point, but how do we find out just how far west they go?\n",
    "\n",
    "### The solution\n",
    "\n",
    "A quick fix for this is to use a translated WGS84 CRS. Simply replace the prime meridian with the antimeridian when defining the destination CRS:"
   ]
  },
  {
   "cell_type": "code",
   "execution_count": 3,
   "id": "7506141b-8777-473f-8ed9-5a42c48ebe71",
   "metadata": {},
   "outputs": [],
   "source": [
    "# replace the relevant parts of the well-known text string\n",
    "dst_crs = CRS.from_wkt(\n",
    "    CRS.from_epsg(4326).to_wkt().replace('PRIMEM[\"Greenwich\",0', 'PRIMEM[\"Greenwich\",180')\n",
    ")"
   ]
  },
  {
   "cell_type": "markdown",
   "id": "5801bdff-d6ba-421f-bd2f-3d0083d46e18",
   "metadata": {},
   "source": [
    "Do the re-projection:"
   ]
  },
  {
   "cell_type": "code",
   "execution_count": 4,
   "id": "b336bffa-ac25-47dd-abba-cd4d36e56287",
   "metadata": {},
   "outputs": [
    {
     "name": "stdout",
     "output_type": "stream",
     "text": [
      "WSEN: [-42.1694  40.1605 108.2349  82.593 ]\n"
     ]
    }
   ],
   "source": [
    "bounds = transform_bounds(src_crs, dst_crs, *src_bounds)\n",
    "print(\"WSEN:\", np.round(bounds, 4))"
   ]
  },
  {
   "cell_type": "markdown",
   "id": "a09a6e7d-7ef7-44eb-ba39-2bd7bcc0555d",
   "metadata": {},
   "source": [
    "And translate back:"
   ]
  },
  {
   "cell_type": "code",
   "execution_count": 5,
   "id": "7d3872ec-d990-4791-8bb9-b3aa68da6b59",
   "metadata": {},
   "outputs": [
    {
     "name": "stdout",
     "output_type": "stream",
     "text": [
      "WSEN: [-222.1694   40.1605  -71.7651   82.593 ]\n"
     ]
    }
   ],
   "source": [
    "print(\"WSEN:\", np.round((bounds[0] - 180, bounds[1], bounds[2] - 180, bounds[3]), 4))"
   ]
  },
  {
   "cell_type": "markdown",
   "id": "a37f1b93-bf4d-4433-a246-e3e054fdc92d",
   "metadata": {},
   "source": [
    "Putting this in a function for convenience, using the same imports as above:"
   ]
  },
  {
   "cell_type": "code",
   "execution_count": 6,
   "id": "71bf7b90-c8e6-4352-96f3-930f1afe9f00",
   "metadata": {},
   "outputs": [
    {
     "name": "stdout",
     "output_type": "stream",
     "text": [
      "WSEN: [-222.1694   40.1605  -71.7651   82.593 ]\n"
     ]
    }
   ],
   "source": [
    "def get_wgs84_extent(gtiff_fp):\n",
    "    with rio.open(gtiff_fp) as src:\n",
    "        src_crs = src.crs\n",
    "        src_bounds = src.bounds\n",
    "    dst_crs = CRS.from_wkt(\n",
    "        CRS.from_epsg(4326).to_wkt().replace('PRIMEM[\"Greenwich\",0', 'PRIMEM[\"Greenwich\",180')\n",
    "    )\n",
    "    bounds = transform_bounds(src_crs, dst_crs, *src_bounds)\n",
    "    new_bounds = np.round((bounds[0] - 180, bounds[1], bounds[2] - 180, bounds[3]), 4)\n",
    "    \n",
    "    return new_bounds\n",
    "\n",
    "\n",
    "print(\"WSEN:\", get_wgs84_extent(\"data/tas_mean_C_ar5_5ModelAvg_rcp85_01_2006.tif\"))"
   ]
  }
 ],
 "metadata": {
  "kernelspec": {
   "display_name": "snap-geo",
   "language": "python",
   "name": "snap-geo"
  },
  "language_info": {
   "codemirror_mode": {
    "name": "ipython",
    "version": 3
   },
   "file_extension": ".py",
   "mimetype": "text/x-python",
   "name": "python",
   "nbconvert_exporter": "python",
   "pygments_lexer": "ipython3",
   "version": "3.8.10"
  }
 },
 "nbformat": 4,
 "nbformat_minor": 5
}
