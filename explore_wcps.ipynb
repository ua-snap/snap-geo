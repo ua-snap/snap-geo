{
 "cells": [
  {
   "cell_type": "markdown",
   "id": "44f97aca-c923-44f2-8eba-631ba6fcf649",
   "metadata": {},
   "source": [
    "# Explore: Web Coverage Processing Service\n",
    "\n",
    "This notebook explores use of WCPS for complex raster array query operations. It makes use of async code utilized by SNAP's data API for making the requests, although that is not necessary and other packages like `requests` would work just fine."
   ]
  },
  {
   "cell_type": "code",
   "execution_count": 1,
   "id": "11c3bb78-ea6f-47bc-800d-88bb15881fb0",
   "metadata": {},
   "outputs": [],
   "source": [
    "import asyncio\n",
    "import io\n",
    "import time\n",
    "import matplotlib.pyplot as plt\n",
    "import xarray as xr\n",
    "from aiohttp import ClientSession\n",
    "from flask import request\n",
    "from urllib.parse import quote"
   ]
  },
  {
   "cell_type": "code",
   "execution_count": 2,
   "id": "f3c5a4f4-a2a1-4789-b853-588e0fb5deec",
   "metadata": {},
   "outputs": [],
   "source": [
    "# just using the API code for ease\n",
    "async def make_netcdf_request(url, session):\n",
    "    \"\"\"Make an awaitable GET request to WCS URL with\n",
    "    netCDF encoding\n",
    "    Args:\n",
    "        url (str): WCS query with ncetCDF encoding\n",
    "        session (aiohttp.ClientSession): the client session instance\n",
    "    Returns:\n",
    "        Query result, deocded differently depending on encoding.\n",
    "    \"\"\"\n",
    "    resp = await session.get(url)\n",
    "    resp.raise_for_status()\n",
    "    query_result = await resp.read()\n",
    "\n",
    "    return query_result"
   ]
  },
  {
   "cell_type": "markdown",
   "id": "114fd981-34f0-4f77-8e10-90f2aeea07df",
   "metadata": {},
   "source": [
    "#### Average subset of grid over decades for single model/scenario/season\n",
    "\n",
    "Computes the pixel-wise average for X = (200000, 1000000) and Y = (200000, 1000000), model = 0, scenario = 0, season = 0"
   ]
  },
  {
   "cell_type": "code",
   "execution_count": 3,
   "id": "b67f7a62-72f9-4d21-9c95-d7eb579310cd",
   "metadata": {},
   "outputs": [
    {
     "name": "stdout",
     "output_type": "stream",
     "text": [
      "Elapsed time: 0s\n",
      "<xarray.Dataset>\n",
      "Dimensions:  (varname: 2, X: 401, Y: 401)\n",
      "Coordinates:\n",
      "  * X        (X) float64 1.998e+05 2.018e+05 2.038e+05 ... 9.978e+05 9.998e+05\n",
      "  * Y        (Y) float64 9.994e+05 9.974e+05 9.954e+05 ... 2.014e+05 1.994e+05\n",
      "  * varname  (varname) float64 0.0 1.0\n",
      "Data variables:\n",
      "    Gray     (varname, X, Y) float32 ...\n",
      "Attributes:\n",
      "    Title:    Seasonal-decadal summaries of AR5 temperature and precipitation...\n"
     ]
    },
    {
     "data": {
      "text/plain": [
       "<matplotlib.image.AxesImage at 0x7f0a37038760>"
      ]
     },
     "execution_count": 3,
     "metadata": {},
     "output_type": "execute_result"
    },
    {
     "data": {
      "image/png": "[encoded data removed]",
      "text/plain": [
       "<Figure size 432x288 with 1 Axes>"
      ]
     },
     "metadata": {
      "needs_background": "light"
     },
     "output_type": "display_data"
    }
   ],
   "source": [
    "wcps_query = quote('for $c in (iem_ar5_2km_taspr_seasonal) return encode(condense + over $t decade(imageCrsDomain($c[decade(6:8)], decade)) using $c[decade($t),model(0),scenario(0),season(0),X(200000:1000000),Y(200000:1000000)], \"application/netcdf\")')\n",
    "url = f\"http://zeus.snap.uaf.edu:8080/rasdaman/ows?&SERVICE=WCS&VERSION=2.0.1&request=ProcessCoverages&query={wcps_query}\"\n",
    "\n",
    "start_time = time.time()\n",
    "async with ClientSession() as session:\n",
    "    netcdf_bytes = await asyncio.create_task(make_netcdf_request(url, session))\n",
    "\n",
    "ds = xr.open_dataset(io.BytesIO(netcdf_bytes))\n",
    "    \n",
    "print(f\"Elapsed time: {round(time.time() - start_time)}s\")\n",
    "print(ds)\n",
    "\n",
    "plt.imshow(ds[\"Gray\"].sel(varname=0).values)"
   ]
  },
  {
   "cell_type": "markdown",
   "id": "ef624729-f722-403c-8553-ac8c82624894",
   "metadata": {},
   "source": [
    "##### Larger area...\n",
    "\n",
    "Computes the same as above but for a larger portion of the domain."
   ]
  },
  {
   "cell_type": "code",
   "execution_count": 4,
   "id": "6e0931c7-ee2a-4dad-9776-a8d6fb2e501e",
   "metadata": {},
   "outputs": [
    {
     "name": "stdout",
     "output_type": "stream",
     "text": [
      "Elapsed time: 1s\n",
      "<xarray.Dataset>\n",
      "Dimensions:  (varname: 2, X: 2001, Y: 901)\n",
      "Coordinates:\n",
      "  * X        (X) float64 -2e+06 -1.998e+06 -1.996e+06 ... 1.998e+06 2e+06\n",
      "  * Y        (Y) float64 1.999e+06 1.997e+06 1.995e+06 ... 2.014e+05 1.994e+05\n",
      "  * varname  (varname) float64 0.0 1.0\n",
      "Data variables:\n",
      "    Gray     (varname, X, Y) float32 ...\n",
      "Attributes:\n",
      "    Title:    Seasonal-decadal summaries of AR5 temperature and precipitation...\n"
     ]
    },
    {
     "data": {
      "text/plain": [
       "<matplotlib.image.AxesImage at 0x7f0a34189b80>"
      ]
     },
     "execution_count": 4,
     "metadata": {},
     "output_type": "execute_result"
    },
    {
     "data": {
      "image/png": "[encoded data removed]",
      "text/plain": [
       "<Figure size 432x288 with 1 Axes>"
      ]
     },
     "metadata": {
      "needs_background": "light"
     },
     "output_type": "display_data"
    }
   ],
   "source": [
    "wcps_query = quote('for $c in (iem_ar5_2km_taspr_seasonal) return encode(condense + over $t decade(imageCrsDomain($c[decade(6:8)], decade)) using $c[decade($t),model(0),scenario(0),season(0),X(-2000000:2000000),Y(200000:2000000)], \"application/netcdf\")')\n",
    "url = f\"http://zeus.snap.uaf.edu:8080/rasdaman/ows?&SERVICE=WCS&VERSION=2.0.1&request=ProcessCoverages&query={wcps_query}\"\n",
    "\n",
    "start_time = time.time()\n",
    "async with ClientSession() as session:\n",
    "    netcdf_bytes = await asyncio.create_task(make_netcdf_request(url, session))\n",
    "\n",
    "ds = xr.open_dataset(io.BytesIO(netcdf_bytes))\n",
    "    \n",
    "print(f\"Elapsed time: {round(time.time() - start_time)}s\")\n",
    "print(ds)\n",
    "\n",
    "plt.imshow(ds[\"Gray\"].sel(varname=0).values)"
   ]
  },
  {
   "cell_type": "code",
   "execution_count": null,
   "id": "54bb7329-7cae-4395-bc61-890b00b65eb1",
   "metadata": {},
   "outputs": [],
   "source": []
  }
 ],
 "metadata": {
  "kernelspec": {
   "display_name": "snap-geo",
   "language": "python",
   "name": "snap-geo"
  },
  "language_info": {
   "codemirror_mode": {
    "name": "ipython",
    "version": 3
   },
   "file_extension": ".py",
   "mimetype": "text/x-python",
   "name": "python",
   "nbconvert_exporter": "python",
   "pygments_lexer": "ipython3",
   "version": "3.8.10"
  }
 },
 "nbformat": 4,
 "nbformat_minor": 5
}
