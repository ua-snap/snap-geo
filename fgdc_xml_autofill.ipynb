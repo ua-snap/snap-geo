{
 "cells": [
  {
   "cell_type": "code",
   "execution_count": 1,
   "metadata": {},
   "outputs": [],
   "source": [
    "import copy\n",
    "import os\n",
    "import re\n",
    "from pathlib import Path\n",
    "import numpy as np\n",
    "import rasterio as rio\n",
    "from xml_utils import XMLRecord, XMLNode"
   ]
  },
  {
   "cell_type": "markdown",
   "metadata": {},
   "source": [
    "Note, I could not get the pymdwizard package itself installed in my conda env. I don't know much about instaling python packages manually, and it is probably trivial to do for those familiar with packaging. I took a shortcut and just copied the `pymdwizard/core/xml_utils.py` module into the working directory of this notebook.\n",
    "\n",
    "We are going to load the original metadata, iterate over all of the data files, and populate the entity and attribute entries.\n",
    "\n",
    "Load the metadata:"
   ]
  },
  {
   "cell_type": "code",
   "execution_count": 2,
   "metadata": {},
   "outputs": [],
   "source": [
    "fp = Path(\"Littell_AKclimate_19Apr23.xml\")\n",
    "original_md = XMLRecord(str(fp))\n",
    "\n",
    "# clone this metadata record for editing\n",
    "new_md = copy.deepcopy(original_md)"
   ]
  },
  {
   "cell_type": "markdown",
   "metadata": {},
   "source": [
    "Get a list of all of the data filepaths:"
   ]
  },
  {
   "cell_type": "code",
   "execution_count": 3,
   "metadata": {},
   "outputs": [],
   "source": [
    "fps = list(Path(\"Data Release\").glob(\"*/*/*.tif\")) + list(Path(\"Data Release\").glob(\"*/*.tif\"))"
   ]
  },
  {
   "cell_type": "markdown",
   "metadata": {},
   "source": [
    "We will iterate over these files and extract/generate the info needed for populating the metadata. Define a function to pull the needed values from the files:"
   ]
  },
  {
   "cell_type": "code",
   "execution_count": 4,
   "metadata": {},
   "outputs": [],
   "source": [
    "def get_eainfo(fp):\n",
    "    \"\"\"Get the necessary info from the data file. Currently this is just nodata value, min value, and max value\"\"\"\n",
    "    with rio.open(fp) as src:\n",
    "        arr = src.read().astype(float)\n",
    "    \n",
    "    nodata = src.meta[\"nodata\"]\n",
    "    arr[arr == nodata] = np.nan\n",
    "    \n",
    "    eainfo = {}\n",
    "    eainfo[\"range_min\"] = np.nanmin(arr)\n",
    "    eainfo[\"range_max\"] = np.nanmax(arr)\n",
    "    eainfo[\"nodata\"] = nodata\n",
    "    \n",
    "    return eainfo\n",
    "    "
   ]
  },
  {
   "cell_type": "markdown",
   "metadata": {},
   "source": [
    "Define a function to update the metadata:"
   ]
  },
  {
   "cell_type": "code",
   "execution_count": 5,
   "metadata": {},
   "outputs": [],
   "source": [
    "def update_metadata(md, file):\n",
    "    # updates the metadata object in place, so use a copy\n",
    "    fn = file.name\n",
    "    attrs = re.split('\\.|_', fn)[:-1] #drop ext\n",
    "\n",
    "    # just initialize a new list for this. It could have existing entries but this is just simpler.\n",
    "    eainfo = md.metadata.eainfo\n",
    "    \n",
    "    # create a new entry, with two children: enttyp, attr\n",
    "    ea_detail_template = (\n",
    "        \"<detailed>\\n<enttyp>\\n<enttypl></enttypl>\\n<enttypd></enttypd>\\n<enttypds></enttypds>\\n</enttyp>\\n\"\n",
    "        \"<attr>\\n<attrlabl></attrlabl>\\n<attrdef></attrdef>\\n<attrdefs></attrdefs>\\n<attrdomv>\\n<edom>\\n<edomv></edomv>\\n<edomvd></edomvd>\\n<edomvds></edomvds>\\n</edom>\\n</attrdomv>\\n\"\n",
    "        \"<attrdomv>\\n<rdom>\\n<rdommin></rdommin>\\n<rdommax></rdommax>\\n<attrunit></attrunit>\\n<attrmres></attrmres>\\n</rdom>\\n</attrdomv>\\n</attr>\\n</detailed>\"\n",
    "    )\n",
    "    new_ea_detail = XMLNode(ea_detail_template)\n",
    "    eainfo.add_child(new_ea_detail)\n",
    "    # new child is appended\n",
    "    ea_detail = eainfo.children[-1]\n",
    "\n",
    "    # get info from the data file\n",
    "    eainfo = get_eainfo(file)\n",
    "\n",
    "    # populate the fields\n",
    "    enttyp = ea_detail.enttyp\n",
    "    enttyp.enttypl.text = fn\n",
    "    enttyp.enttypd.text = \", \".join([fn_attr_lu[attr] for attr in attrs])\n",
    "    enttyp.enttypds.text = \"Producer Defined\"\n",
    "    attr = ea_detail.attr\n",
    "    attr.attrlabl.text=\"Value\"\n",
    "    attr.attrdef.text=\"Unique numeric values contained in each raster cell.\"\n",
    "    attr.attrdefs.text=\"Producer Defined\"\n",
    "    # edom is first attribute\n",
    "    edom_attr = ea_detail.attr.attrdomv[0]\n",
    "    edom_attr.edom.edomv.text = str(eainfo[\"nodata\"])\n",
    "    edom_attr.edom.edomvd.text = \"-Inf\"\n",
    "    edom_attr.edom.edomvds.text = \"Producer Defined\"\n",
    "    # rdom is second attribute\n",
    "    rdom_attr = ea_detail.attr.attrdomv[1]\n",
    "    rdom_attr.rdom.rdommin.text = str(eainfo[\"range_min\"])\n",
    "    rdom_attr.rdom.rdommax.text = str(eainfo[\"range_max\"])\n",
    "    # TO-DO : this is hardcoded for now, need a way to supply these according to one or more of the file attributes (probably variable)\n",
    "    rdom_attr.rdom.attrunit.text = rdom_lu[attrs[0]][\"units\"]\n",
    "    rdom_attr.rdom.attrmres.text = rdom_lu[attrs[0]][\"resolution\"]\n",
    "    \n",
    "    return\n"
   ]
  },
  {
   "cell_type": "markdown",
   "metadata": {},
   "source": [
    "Defined a lookup table with all possible file attributes and correpsonding text that should be included in a description:"
   ]
  },
  {
   "cell_type": "code",
   "execution_count": 6,
   "metadata": {},
   "outputs": [],
   "source": [
    "fn_attr_lu = {\n",
    "    \"dpr\": \"Change in total precipitation\",\n",
    "    \"dtas\": \"Change in surface air temperature\",\n",
    "    \"dswe\": \"Change in total snow water equivalent\",\n",
    "    \"swe\": \"Snow water equivalent\",\n",
    "    \"SFEtoP\": \"Ratio of total snowfall water equivalent to total precipitation\",\n",
    "    \"monr70\": \"70% threshold for snowfall water equivalent / precipitation ratio\",\n",
    "    \"dfs\": \"Change in months of reliable snow\",\n",
    "    \"dfpcen\": \"Change in fires per century\",\n",
    "    \"dvgcen\": \"Change in vegetation types per century\",\n",
    "    \"NuPiBA0t5\": \"New white spruce colonization (basal area 0 to 5 m^2/ha)\",\n",
    "    \"NuPiBA5t12\": \"New white spruce colonization (basal area 5 to 12 m^2/ha)\",\n",
    "    \"dDEF\": \"Change in total water balance deficit, PET - AET\",\n",
    "    \"dPET\": \"Change in total potential evapotranspiration\",\n",
    "    \"dq\": \"Change in total runoff\",\n",
    "    \"ANN\": \"Annual\",\n",
    "    \"MAM\": \"Spring - March, April, May\",\n",
    "    \"JJA\": \"Summer - June, July, August\",\n",
    "    \"SON\": \"Autumn - September, October, November\",\n",
    "    \"DJF\": \"Winter - December, January, Februaryy\",\n",
    "    \"ONDJFM\": \"Snow season - October through March\",\n",
    "    \"AMJJAS\": \"Growing season - April through September\",\n",
    "    \"APR\": \"April\",\n",
    "    \"FEB\": \"February\",\n",
    "    \"MAR\": \"March\",\n",
    "    \"MAY\": \"Annual\",\n",
    "    \"5mm\": \"5 GCM mean\",\n",
    "    \"ccsm4\": \"NCARCCSM4\",\n",
    "    \"cgcm3\": \"MRICGCM3\",\n",
    "    \"hist\": \"historical mean\",\n",
    "    \"2050s\": \"2040-2069\",\n",
    "    \"2080s\": \"2070-2099\",\n",
    "    \"1980s\": \"1970-1999\",\n",
    "    \"2050\": \"2050-2059\",\n",
    "    \"2100\": \"End of 2000-2100 century model run\",\n",
    "    \"r85\": \"RCP 8.5\",\n",
    "    \"rcp85\": \"RCP 8.5\",\n",
    "    \"r45\": \"RCP 4.5\",\n",
    "    \"2C\": \"+2C global pseudo global warming composite ensemble, similar to RCP 4.5\",\n",
    "    \"4C\": \"+4C global pseudo global warming composite ensemble, similar to RCP 8.5\",\n",
    "}\n",
    "\n",
    "rdom_lu = {\n",
    "    \"dfs\": {\"units\": \"months\", \"resolution\": \"1\"},\n",
    "    \"dtas\": {\"units\": \"C\", \"resolution\": \"1\"},\n",
    "    \"dpr\": {\"units\": \"percent / 100\", \"resolution\": \"0.001\"},\n",
    "    \"dswe\": {\"units\": \"percent\", \"resolution\": \"1\"},\n",
    "    \"swe\": {\"units\": \"mm\", \"resolution\": \"1\"},\n",
    "    \"SFEtoP\": {\"units\": \"percent\", \"resolution\": \"1\"},\n",
    "    \"dfpcen\": {\"units\": \"fires\", \"resolution\": \"1\"},\n",
    "    \"dvgcen\": {\"units\": \"vegetation types\", \"resolution\": \"1\"},\n",
    "    \"dDEF\": {\"units\": \"mm\", \"resolution\": \"1\"},\n",
    "    \"dPET\": {\"units\": \"mm\", \"resolution\": \"1\"},\n",
    "    \"dq\": {\"units\": \"mm\", \"resolution\": \"1\"},\n",
    "    \"NuPiBA0t5\": {\"units\": \"percent\", \"resolution\": \"1\"},\n",
    "    \"NuPiBA5t12\": {\"units\": \"percent\", \"resolution\": \"1\"},\n",
    "}"
   ]
  },
  {
   "cell_type": "markdown",
   "metadata": {},
   "source": [
    "Now we will iterate and update the record copy.\n",
    "\n",
    "Looks like the original metadata has some empty entries, just going to wipe the EA section:"
   ]
  },
  {
   "cell_type": "code",
   "execution_count": 7,
   "metadata": {},
   "outputs": [
    {
     "data": {
      "text/plain": [
       "<eainfo>\n",
       "</eainfo>"
      ]
     },
     "execution_count": 7,
     "metadata": {},
     "output_type": "execute_result"
    }
   ],
   "source": [
    "new_md.metadata.eainfo.clear_children()\n",
    "new_md.metadata.eainfo"
   ]
  },
  {
   "cell_type": "markdown",
   "metadata": {},
   "source": [
    "Then iterate over the files and update:"
   ]
  },
  {
   "cell_type": "code",
   "execution_count": 8,
   "metadata": {},
   "outputs": [],
   "source": [
    "for fp in fps:\n",
    "    update_metadata(new_md, fp)"
   ]
  },
  {
   "cell_type": "markdown",
   "metadata": {},
   "source": [
    "Check out some sample entries:"
   ]
  },
  {
   "cell_type": "code",
   "execution_count": 9,
   "metadata": {
    "tags": []
   },
   "outputs": [
    {
     "data": {
      "text/plain": [
       "<detailed>\n",
       "  <enttyp>\n",
       "    <enttypl>dtas_SON_5mm.2050s.r85.tif</enttypl>\n",
       "    <enttypd>Change in surface air temperature, Autumn - September, October, November, 5 GCM mean, 2040-2069, RCP 8.5</enttypd>\n",
       "    <enttypds>Producer Defined</enttypds>\n",
       "  </enttyp>\n",
       "  <attr>\n",
       "    <attrlabl>Value</attrlabl>\n",
       "    <attrdef>Unique numeric values contained in each raster cell.</attrdef>\n",
       "    <attrdefs>Producer Defined</attrdefs>\n",
       "    <attrdomv>\n",
       "      <edom>\n",
       "        <edomv>-3.3999999521443642e+38</edomv>\n",
       "        <edomvd>-Inf</edomvd>\n",
       "        <edomvds>Producer Defined</edomvds>\n",
       "      </edom>\n",
       "    </attrdomv>\n",
       "    <attrdomv>\n",
       "      <rdom>\n",
       "        <rdommin>2.4666664600372314</rdommin>\n",
       "        <rdommax>7.933333873748779</rdommax>\n",
       "        <attrunit>C</attrunit>\n",
       "        <attrmres>1</attrmres>\n",
       "      </rdom>\n",
       "    </attrdomv>\n",
       "  </attr>\n",
       "</detailed>"
      ]
     },
     "execution_count": 9,
     "metadata": {},
     "output_type": "execute_result"
    }
   ],
   "source": [
    "new_md.metadata.eainfo.children[0]"
   ]
  },
  {
   "cell_type": "code",
   "execution_count": 10,
   "metadata": {},
   "outputs": [
    {
     "data": {
      "text/plain": [
       "<detailed>\n",
       "  <enttyp>\n",
       "    <enttypl>NuPiBA0t5.cgcm3.2050.r85.tif</enttypl>\n",
       "    <enttypd>New white spruce colonization (basal area 0 to 5 m^2/ha), MRICGCM3, 2050-2059, RCP 8.5</enttypd>\n",
       "    <enttypds>Producer Defined</enttypds>\n",
       "  </enttyp>\n",
       "  <attr>\n",
       "    <attrlabl>Value</attrlabl>\n",
       "    <attrdef>Unique numeric values contained in each raster cell.</attrdef>\n",
       "    <attrdefs>Producer Defined</attrdefs>\n",
       "    <attrdomv>\n",
       "      <edom>\n",
       "        <edomv>255.0</edomv>\n",
       "        <edomvd>-Inf</edomvd>\n",
       "        <edomvds>Producer Defined</edomvds>\n",
       "      </edom>\n",
       "    </attrdomv>\n",
       "    <attrdomv>\n",
       "      <rdom>\n",
       "        <rdommin>0.0</rdommin>\n",
       "        <rdommax>1.0</rdommax>\n",
       "        <attrunit>percent</attrunit>\n",
       "        <attrmres>1</attrmres>\n",
       "      </rdom>\n",
       "    </attrdomv>\n",
       "  </attr>\n",
       "</detailed>"
      ]
     },
     "execution_count": 10,
     "metadata": {},
     "output_type": "execute_result"
    }
   ],
   "source": [
    "new_md.metadata.eainfo.children[50]"
   ]
  },
  {
   "cell_type": "markdown",
   "metadata": {},
   "source": [
    "Save the new metadata:"
   ]
  },
  {
   "cell_type": "code",
   "execution_count": 11,
   "metadata": {},
   "outputs": [],
   "source": [
    "new_md.save(fname=\"Littell_AKclimate_19Apr28.xml\")"
   ]
  },
  {
   "cell_type": "markdown",
   "metadata": {},
   "source": [
    "Ways this process can be improved:\n",
    "\n",
    "Function:\n",
    "* Update the spatial information based on the files\n",
    "* allow mappings for units/resolution text\n",
    "\n",
    "error handling:\n",
    "* warning if not all lookups were used\n",
    "* warning / error if not all files have the same spatial information\n"
   ]
  }
 ],
 "metadata": {
  "kernelspec": {
   "display_name": "Python 3 (ipykernel)",
   "language": "python",
   "name": "python3"
  },
  "language_info": {
   "codemirror_mode": {
    "name": "ipython",
    "version": 3
   },
   "file_extension": ".py",
   "mimetype": "text/x-python",
   "name": "python",
   "nbconvert_exporter": "python",
   "pygments_lexer": "ipython3",
   "version": "3.8.12"
  }
 },
 "nbformat": 4,
 "nbformat_minor": 4
}
