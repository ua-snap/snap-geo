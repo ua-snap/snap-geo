{
 "cells": [
  {
   "cell_type": "markdown",
   "id": "e794b6cc-8b09-4248-a0a3-816b1e1f6d31",
   "metadata": {},
   "source": [
    "# GeoTIFF point extraction (windowed read)\n",
    "\n",
    "This notebook demonstrates reading a window from a GeoTIFF using `rasterio`. This is useful for extracting subset of a GeoTIFF, including just a single pixel, which is what will be demonstrated first. This is useful so that the entire raster does not need to be read into memory as an e.g. `numpy` array to do subsetting / extraction."
   ]
  },
  {
   "cell_type": "code",
   "execution_count": 1,
   "id": "6455f92f-5a6e-48d8-83d2-97048f84ec98",
   "metadata": {},
   "outputs": [],
   "source": [
    "import rasterio as rio\n",
    "from rasterio.windows import Window\n",
    "from pyproj import Transformer\n"
   ]
  },
  {
   "cell_type": "code",
   "execution_count": 2,
   "id": "61c8aba7-7e92-4b93-ab38-e8b8675a8bde",
   "metadata": {},
   "outputs": [],
   "source": [
    "# path to your GeoTIFF (this one has CRS of EPSG:3338)\n",
    "fp = \"data/tas_mean_C_ar5_5ModelAvg_rcp85_01_2006.tif\"\n",
    "\n",
    "# just giving these some names for column names of pandas df later\n",
    "lat, lon = 64.84, -147.72"
   ]
  },
  {
   "cell_type": "markdown",
   "id": "90f47084-7c72-4c60-8907-ef393b814b63",
   "metadata": {},
   "source": [
    "This step does a few things at once so the connection to the file only needs to be opened one time:\n",
    "\n",
    "1. get the CRS from the GeoTIFF\n",
    "2. reproject the lat/lon to the GeoTIFF's CRS\n",
    "3. use the `rasterio.io.DatasetReader.index()` function to get the row / column of the pixel intersecting the reprojected coordinates\n",
    "4. Create a `rasterio.windows.Window` object to sepcify what part of the raster to read, and perform the read"
   ]
  },
  {
   "cell_type": "code",
   "execution_count": 3,
   "id": "7bedde55-a77e-4ff6-bddd-b986c87ddec2",
   "metadata": {},
   "outputs": [
    {
     "name": "stdout",
     "output_type": "stream",
     "text": [
      "CRS is EPSG:3338\n",
      "Extracted array: [[-21.3]]\n"
     ]
    }
   ],
   "source": [
    "with rio.open(fp) as src:\n",
    "    # get CRS\n",
    "    tif_crs = src.crs\n",
    "    print(f\"CRS is {tif_crs}\")\n",
    "    # reproject\n",
    "    transformer = Transformer.from_crs(\"epsg:4326\", tif_crs)\n",
    "    x, y = transformer.transform(lat, lon)\n",
    "    # get row / column\n",
    "    r, c = src.index(x, y)\n",
    "    # create a window object by specifying the starting place \n",
    "    #  of the array and the size of the window\n",
    "    # note order is column offset, row offset, width, height\n",
    "    window = Window(c, r, 1, 1)\n",
    "    # read the data\n",
    "    arr = src.read(1, window=window)\n",
    "    \n",
    "print(f\"Extracted array: {arr}\")"
   ]
  },
  {
   "cell_type": "markdown",
   "id": "e4c3dfc1-143a-4185-ad27-e08a4d3cc1a0",
   "metadata": {},
   "source": [
    "And this can be done for any size windows as well:"
   ]
  },
  {
   "cell_type": "code",
   "execution_count": 4,
   "id": "f7234054-706f-4755-a4b9-d92ba6092a17",
   "metadata": {},
   "outputs": [
    {
     "name": "stdout",
     "output_type": "stream",
     "text": [
      "[[-21.3 -21.9 -22.3 -22.  -21.5 -21.1 -20.9 -21.  -21.1 -21.9]\n",
      " [-21.  -21.5 -22.1 -21.8 -21.3 -20.7 -20.5 -20.7 -20.7 -21.2]\n",
      " [-20.5 -21.1 -21.7 -21.5 -20.9 -20.3 -19.9 -20.1 -20.2 -20.5]\n",
      " [-20.1 -20.8 -21.1 -21.  -20.5 -20.  -19.5 -19.3 -19.7 -20.4]\n",
      " [-19.8 -20.5 -20.7 -20.6 -20.1 -19.5 -18.6 -18.3 -19.  -19.5]\n",
      " [-19.8 -20.3 -20.6 -20.5 -20.1 -19.3 -18.4 -17.9 -18.2 -18.8]\n",
      " [-20.1 -20.3 -20.6 -20.3 -20.1 -19.3 -18.6 -18.1 -18.2 -18.6]\n",
      " [-20.  -21.  -20.8 -20.3 -20.3 -19.6 -18.9 -18.5 -19.9 -19.2]\n",
      " [-19.9 -20.8 -21.3 -20.7 -21.  -20.4 -19.5 -19.3 -20.8 -20.8]\n",
      " [-19.6 -20.6 -21.1 -21.2 -22.  -21.9 -20.9 -19.6 -21.3 -21.8]]\n"
     ]
    }
   ],
   "source": [
    "with rio.open(fp) as src:\n",
    "    window = Window(c, r, 10, 10)\n",
    "    arr = src.read(1, window=window)\n",
    "    \n",
    "print(arr)"
   ]
  },
  {
   "cell_type": "markdown",
   "id": "d0855805-2623-4a94-9971-06e8f51d205d",
   "metadata": {},
   "source": [
    "See the [raserio docs](https://rasterio.readthedocs.io/en/latest/topics/windowed-rw.html) for more info!"
   ]
  },
  {
   "cell_type": "code",
   "execution_count": null,
   "id": "b7e76759-586d-4242-b8ab-225f5119ac21",
   "metadata": {},
   "outputs": [],
   "source": []
  }
 ],
 "metadata": {
  "kernelspec": {
   "display_name": "snap-geo",
   "language": "python",
   "name": "snap-geo"
  },
  "language_info": {
   "codemirror_mode": {
    "name": "ipython",
    "version": 3
   },
   "file_extension": ".py",
   "mimetype": "text/x-python",
   "name": "python",
   "nbconvert_exporter": "python",
   "pygments_lexer": "ipython3",
   "version": "3.8.10"
  }
 },
 "nbformat": 4,
 "nbformat_minor": 5
}
