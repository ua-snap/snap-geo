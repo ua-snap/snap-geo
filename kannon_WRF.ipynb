{
 "cells": [
  {
   "cell_type": "markdown",
   "id": "5481f9e7-ee7a-4ad3-bc9f-3556bef8f69d",
   "metadata": {},
   "source": [
    "# Point Extraction of WRF Climate Data\n",
    "## Purpose\n",
    "The purpose of this Jupyter Notebook is to extract data from WRF datasets at two coordiantes (latitude and longitude) provided by Kannon Lee at PND Engineers. Kannon's application is thermal analysis, so we'll extract the following variables at a **daily** resolution:\n",
    " - `t2`: Two meter daily average air temperature (Kelvin)\n",
    " - `t2max` Two meter daily maximum air temperature (Kelvin)\n",
    " - `t2min` Two meter daily mnimum air temperature (Kelvin)\n",
    " \n",
    " and the following variables at **hourly** resolution:\n",
    " - `t2`: Two meter air temperature (Kelvin)\n",
    " \n",
    "The following daily datasets will be queried for each variable:\n",
    " - The ERA-Interim Reanalysis Historical Baseline (1979 - 2015)\n",
    " - The NCAR-CCSM4 Historical Model Run (1970 - 2005)\n",
    " - The NCAR-CCSM4 RCP 8.5 Model Run (2006 - 2100)\n",
    " \n",
    " The following daily datasets will be queried for each variable:\n",
    " - The ERA-Interim Reanalysis Historical Baseline (1979 - 2015)\n",
    " - The NCAR-CCSM4 Historical Model Run (1970 - 2005)\n",
    " - The NCAR-CCSM4 RCP85 Model Run (2006 - 2100)\n",
    " - The GFDL-CM3 Historical Model Run (1970 - 2005)\n",
    " - The GFDL-CM3 RCP 8.5 Model Run (2006 - 2100)\n",
    "\n",
    " \n",
    "## Objective\n",
    "Create minimalist datasets of temperature data suitable for ingest to Kannon's thermal analysis. The data product will consitute several CSV files organized by location, temperature variable, and the particular reanalysis / climate model / emissions scenario combination. Files with data in units Kelvin and degrees Centigrade will be provided for convenience.\n",
    "\n",
    "## Background\n",
    "The data set for extraction is: [Historical and Projected Dynamically Downscaled Climate Data for the State of Alaska and surrounding regions at 20km spatial resolution and hourly temporal resolution](http://ckan.snap.uaf.edu/dataset/historical-and-projected-dynamically-downscaled-climate-data-for-the-state-of-alaska-and-surrou)\n",
    "\n",
    "Spatial resolution is hourly, with daily summaries also available.\n",
    "Any missing data will be tracked and reported with an appropriate \"no data\" value \n",
    "These will be provided both intact, and in a \"dropped\" version for convenience.\n",
    "\n",
    "\n",
    "## Implementation\n",
    "This Jupyter Notebook will weave together the extraction code, narrative, and documention. The cells are intended to be ran top to bottom in sequential order."
   ]
  },
  {
   "cell_type": "code",
   "execution_count": 2,
   "id": "f98a89b7-eb52-4166-9785-f7d8c03bde0f",
   "metadata": {},
   "outputs": [],
   "source": [
    "# import the necessary libraries\n",
    "import xarray as xr\n",
    "import numpy as np\n",
    "import pandas as pd\n",
    "import warnings\n",
    "from pathlib import Path\n",
    "from pyproj import Transformer\n",
    "from pyproj.crs import CRS\n",
    "warnings.filterwarnings(\"ignore\", category=FutureWarning) "
   ]
  },
  {
   "cell_type": "code",
   "execution_count": 3,
   "id": "0b3157cd",
   "metadata": {},
   "outputs": [],
   "source": [
    "# coordinates provided via a KMZ file from Kannon\n",
    "wgs84_coords = {\n",
    "    \"Chefornak\": (60.158787283199999, -164.281157796799988),\n",
    "    \"Ambler\": (67.08675982, -157.8569733),\n",
    "}"
   ]
  },
  {
   "cell_type": "code",
   "execution_count": 4,
   "id": "a732a092",
   "metadata": {},
   "outputs": [],
   "source": [
    "# climate variables of interest for daily summaries\n",
    "climate_vars = [\"t2\", \"t2max\", \"t2min\"]"
   ]
  },
  {
   "cell_type": "code",
   "execution_count": 5,
   "id": "3d7a4d08",
   "metadata": {},
   "outputs": [],
   "source": [
    "# paths to local copy of the data\n",
    "daily_basepath = Path(\"/rcs/project_data/wrf_data/daily/\")\n",
    "hourly_basepath = Path(\"/rcs/project_data/wrf_data/hourly_fix/\")"
   ]
  },
  {
   "cell_type": "code",
   "execution_count": 6,
   "id": "e48a0acf",
   "metadata": {},
   "outputs": [],
   "source": [
    "# empty list to track netCDF files that lack coordinates\n",
    "no_coord_files = []"
   ]
  },
  {
   "cell_type": "code",
   "execution_count": 7,
   "id": "0776c9bf",
   "metadata": {},
   "outputs": [],
   "source": [
    "\"\"\"This code block defines functions to fetch the paths to the netCDF files\n",
    "containing the WRF outputs for the variables and combinations of interest.\"\"\"\n",
    "\n",
    "\n",
    "def fetch_target_directory(basepath, climate_variable):\n",
    "    target_dir = basepath.joinpath(climate_variable)\n",
    "    return target_dir\n",
    "\n",
    "\n",
    "def fetch_target_filepaths(target_dir, filename_match):\n",
    "    target_fps = [fp for fp in target_dir.glob(f\"*{filename_match}*.nc\")]\n",
    "    return target_fps"
   ]
  },
  {
   "cell_type": "code",
   "execution_count": 8,
   "id": "5a250387",
   "metadata": {},
   "outputs": [],
   "source": [
    "\"\"\"This code block defines functions to extract and store the actual data from netCDF files\n",
    "for a particular set of geospatial coordinates.\"\"\"\n",
    "\n",
    "\n",
    "def get_data(fp, var):\n",
    "    \"\"\"This function extracts data from a single netCDF file.\n",
    "    Coordinates are supplied via the global dictionary.\"\"\"\n",
    "    with xr.open_dataset(fp) as ds:\n",
    "        # project WGS84 coordinates using proj string from WRF file\n",
    "        wrf_proj_str = ds.attrs[\"proj_parameters\"]\n",
    "        wrf_crs = CRS.from_proj4(wrf_proj_str)\n",
    "        transformer = Transformer.from_crs(\"epsg:4326\", wrf_crs)\n",
    "        wrf_coords = {\n",
    "            p_name: transformer.transform(*coords)\n",
    "            for p_name, coords in wgs84_coords.items()\n",
    "        }\n",
    "\n",
    "        # query xarray dataset using \"method\" parameter to\n",
    "        # choose nearest cell to each coordinate\n",
    "        try:\n",
    "            temp_data = {\n",
    "                p_name: ds[var].sel(xc=coords[0], yc=coords[1], method=\"nearest\").values\n",
    "                for p_name, coords in wrf_coords.items()\n",
    "            }\n",
    "            # make a pandas dataframe with time series from points as columns\n",
    "            df = pd.DataFrame(temp_data, index=ds.time.values)\n",
    "        except:\n",
    "            no_coord_files.append(fp)\n",
    "            temp_data = {p_name: np.nan for p_name in wrf_coords.keys()}\n",
    "            df = pd.DataFrame(temp_data, index = ds.time.values)\n",
    "        return df.round(2)\n",
    "    \n",
    "\n",
    "def get_data_from_all_filepaths(filepaths, var):    \n",
    "    list_of_temp_data_from_single_files = []\n",
    "    for fp in filepaths:\n",
    "        temp_data_from_one_file = get_data(fp, var)\n",
    "        list_of_temp_data_from_single_files.append(temp_data_from_one_file)\n",
    "    all_temp_data = pd.concat(list_of_temp_data_from_single_files)\n",
    "    # consider droppping nan rows here.\n",
    "    return all_temp_data\n"
   ]
  },
  {
   "cell_type": "markdown",
   "id": "61f4a6aa",
   "metadata": {},
   "source": [
    "#### Notes on the above extraction code\n",
    "\n",
    "The WRF coordinate reference system is obtained from the proj4 string in the netCDF dataset attributes. Then the `pyproj.Transformer` is used to project the coordinates to the CRS used in the `xarray` dataset. \n",
    "\n",
    "The `xarray.DataSet` object has a `.sel` method to query the data by location. The paramter `method=\"nearest\"` must be set to query the nearest grid cell to the specified input coordinates, otherwise the method will look for the the specified coordinate exactly as provided and likely fail. "
   ]
  },
  {
   "cell_type": "code",
   "execution_count": 9,
   "id": "b7f9e527",
   "metadata": {},
   "outputs": [],
   "source": [
    "\"\"\"This code block extracts data at the daily resolution.\"\"\"\n",
    "\n",
    "# initialize empty dictionary object for results\n",
    "climate_data_di = {}\n",
    "\n",
    "# get extraction results for each climate variable and store in the dictionary\n",
    "for var in climate_vars:\n",
    "    \n",
    "    climate_data_di[var] = {}\n",
    "    \n",
    "    # set the file paths\n",
    "    target_dir = fetch_target_directory(daily_basepath, var)    \n",
    "    rcp85_fps = fetch_target_filepaths(target_dir, \"rcp85\")\n",
    "    era_fps = fetch_target_filepaths(target_dir, \"ERA-Interim\")\n",
    "    historicalcm3_fps = fetch_target_filepaths(target_dir, \"GFDL-CM3_historical\")\n",
    "    \n",
    "    # do the extraction\n",
    "    climate_data_di[var][\"daily_rcp85_cm3\"] = get_data_from_all_filepaths(rcp85_fps, var)\n",
    "    climate_data_di[var][\"daily_historical_era_interim_reanalysis\"] = get_data_from_all_filepaths(era_fps, var)\n",
    "    climate_data_di[var][\"daily_historical_modeled_cm3\"] = get_data_from_all_filepaths(historicalcm3_fps, var)"
   ]
  },
  {
   "cell_type": "code",
   "execution_count": 10,
   "id": "ea7003ca-1846-40cf-af9b-f9b4a06d565b",
   "metadata": {},
   "outputs": [],
   "source": [
    "\"\"\"This code block extracts data at the hourly resolution.\"\"\"\n",
    "\n",
    "# set the filepaths\n",
    "var = \"t2\" # no min and max for hourly resolution\n",
    "target_dir = fetch_target_directory(hourly_basepath, var)\n",
    "hourly_ccsm4_fps = fetch_target_filepaths(target_dir, \"CCSM4\")\n",
    "hourly_cm3_fps = fetch_target_filepaths(target_dir, \"CM3\")\n",
    "cm3_historical_model_fps = [x for x in hourly_cm3_fps if \"historical\" in x.name]\n",
    "cm3_rcp85_fps = [x for x in hourly_cm3_fps if \"rcp85\" in x.name]\n",
    "ccsm4_historical_model_fps = [x for x in hourly_ccsm4_fps if \"historical\" in x.name]\n",
    "ccsm4_rcp85_fps = [x for x in hourly_ccsm4_fps if \"rcp85\" in x.name]\n",
    "hourly_era_fps = fetch_target_filepaths(target_dir, \"ERA-Interim\")\n",
    "\n",
    "# do the extraction\n",
    "climate_data_di[var][\"hourly_reanalysis\"] = get_data_from_all_filepaths(hourly_era_fps, var)\n",
    "climate_data_di[var][\"hourly_cm3_rcp85\"] = get_data_from_all_filepaths(cm3_rcp85_fps, var)\n",
    "climate_data_di[var][\"hourly_historical_modeled_cm3\"] = get_data_from_all_filepaths(cm3_historical_model_fps, var)\n",
    "climate_data_di[var][\"hourly_ccsm4_rcp85\"] = get_data_from_all_filepaths(ccsm4_rcp85_fps, var)\n",
    "climate_data_di[var][\"hourly_historical_modeled_ccsm4\"] = get_data_from_all_filepaths(ccsm4_historical_model_fps, var)\n"
   ]
  },
  {
   "cell_type": "code",
   "execution_count": 11,
   "id": "fc06fb88",
   "metadata": {},
   "outputs": [
    {
     "data": {
      "text/plain": [
       "{'daily_rcp85_cm3':              Chefornak      Ambler\n",
       " 2006-01-02  262.850006  259.059998\n",
       " 2006-01-03  267.850006  268.679993\n",
       " 2006-01-04  263.320007  248.679993\n",
       " 2006-01-05  255.899994  245.720001\n",
       " 2006-01-06  253.250000  241.639999\n",
       " ...                ...         ...\n",
       " 2100-12-27  278.220001  271.640015\n",
       " 2100-12-28  277.940002  270.350006\n",
       " 2100-12-29  274.410004  268.989990\n",
       " 2100-12-30  274.820007  266.399994\n",
       " 2100-12-31  277.950012  266.869995\n",
       " \n",
       " [34697 rows x 2 columns],\n",
       " 'daily_historical_era_interim_reanalysis':              Chefornak      Ambler\n",
       " 1979-01-02  272.570007  260.920013\n",
       " 1979-01-03  274.220001  263.690002\n",
       " 1979-01-04  275.510010  256.720001\n",
       " 1979-01-05  275.089996  256.920013\n",
       " 1979-01-06  273.380005  255.539993\n",
       " ...                ...         ...\n",
       " 2015-10-25  277.589996  268.660004\n",
       " 2015-10-26  276.899994  272.739990\n",
       " 2015-10-27  277.170013  270.970001\n",
       " 2015-10-28  275.700012  263.359985\n",
       " 2015-10-29  271.829987  259.839996\n",
       " \n",
       " [13450 rows x 2 columns],\n",
       " 'daily_historical_modeled_cm3':              Chefornak      Ambler\n",
       " 1970-01-02  273.970001  266.600006\n",
       " 1970-01-03  273.540009  268.040009\n",
       " 1970-01-04  270.119995  267.390015\n",
       " 1970-01-05  269.510010  265.549988\n",
       " 1970-01-06  266.779999  264.890015\n",
       " ...                ...         ...\n",
       " 2005-12-29  273.619995  269.660004\n",
       " 2005-12-30  274.260010  271.070007\n",
       " 2005-12-31  268.980011  265.660004\n",
       " 2006-01-01  263.109985  258.160004\n",
       " 2006-01-02  266.359985  259.359985\n",
       " \n",
       " [13150 rows x 2 columns]}"
      ]
     },
     "execution_count": 11,
     "metadata": {},
     "output_type": "execute_result"
    }
   ],
   "source": [
    "# inspect results by variable\n",
    "climate_data_di[\"t2min\"]"
   ]
  },
  {
   "cell_type": "code",
   "execution_count": 12,
   "id": "6c304380",
   "metadata": {},
   "outputs": [
    {
     "data": {
      "text/html": [
       "<div>\n",
       "<style scoped>\n",
       "    .dataframe tbody tr th:only-of-type {\n",
       "        vertical-align: middle;\n",
       "    }\n",
       "\n",
       "    .dataframe tbody tr th {\n",
       "        vertical-align: top;\n",
       "    }\n",
       "\n",
       "    .dataframe thead th {\n",
       "        text-align: right;\n",
       "    }\n",
       "</style>\n",
       "<table border=\"1\" class=\"dataframe\">\n",
       "  <thead>\n",
       "    <tr style=\"text-align: right;\">\n",
       "      <th></th>\n",
       "      <th>Chefornak</th>\n",
       "      <th>Ambler</th>\n",
       "    </tr>\n",
       "  </thead>\n",
       "  <tbody>\n",
       "    <tr>\n",
       "      <th>2006-01-02</th>\n",
       "      <td>262.850006</td>\n",
       "      <td>259.059998</td>\n",
       "    </tr>\n",
       "    <tr>\n",
       "      <th>2006-01-03</th>\n",
       "      <td>267.850006</td>\n",
       "      <td>268.679993</td>\n",
       "    </tr>\n",
       "    <tr>\n",
       "      <th>2006-01-04</th>\n",
       "      <td>263.320007</td>\n",
       "      <td>248.679993</td>\n",
       "    </tr>\n",
       "    <tr>\n",
       "      <th>2006-01-05</th>\n",
       "      <td>255.899994</td>\n",
       "      <td>245.720001</td>\n",
       "    </tr>\n",
       "    <tr>\n",
       "      <th>2006-01-06</th>\n",
       "      <td>253.250000</td>\n",
       "      <td>241.639999</td>\n",
       "    </tr>\n",
       "    <tr>\n",
       "      <th>...</th>\n",
       "      <td>...</td>\n",
       "      <td>...</td>\n",
       "    </tr>\n",
       "    <tr>\n",
       "      <th>2100-12-27</th>\n",
       "      <td>278.220001</td>\n",
       "      <td>271.640015</td>\n",
       "    </tr>\n",
       "    <tr>\n",
       "      <th>2100-12-28</th>\n",
       "      <td>277.940002</td>\n",
       "      <td>270.350006</td>\n",
       "    </tr>\n",
       "    <tr>\n",
       "      <th>2100-12-29</th>\n",
       "      <td>274.410004</td>\n",
       "      <td>268.989990</td>\n",
       "    </tr>\n",
       "    <tr>\n",
       "      <th>2100-12-30</th>\n",
       "      <td>274.820007</td>\n",
       "      <td>266.399994</td>\n",
       "    </tr>\n",
       "    <tr>\n",
       "      <th>2100-12-31</th>\n",
       "      <td>277.950012</td>\n",
       "      <td>266.869995</td>\n",
       "    </tr>\n",
       "  </tbody>\n",
       "</table>\n",
       "<p>34697 rows × 2 columns</p>\n",
       "</div>"
      ],
      "text/plain": [
       "             Chefornak      Ambler\n",
       "2006-01-02  262.850006  259.059998\n",
       "2006-01-03  267.850006  268.679993\n",
       "2006-01-04  263.320007  248.679993\n",
       "2006-01-05  255.899994  245.720001\n",
       "2006-01-06  253.250000  241.639999\n",
       "...                ...         ...\n",
       "2100-12-27  278.220001  271.640015\n",
       "2100-12-28  277.940002  270.350006\n",
       "2100-12-29  274.410004  268.989990\n",
       "2100-12-30  274.820007  266.399994\n",
       "2100-12-31  277.950012  266.869995\n",
       "\n",
       "[34697 rows x 2 columns]"
      ]
     },
     "execution_count": 12,
     "metadata": {},
     "output_type": "execute_result"
    }
   ],
   "source": [
    "# inspect results by variable and output type\n",
    "climate_data_di[\"t2min\"][\"daily_rcp85_cm3\"]"
   ]
  },
  {
   "cell_type": "code",
   "execution_count": 13,
   "id": "839522da",
   "metadata": {},
   "outputs": [
    {
     "data": {
      "text/plain": [
       "2006-01-02    259.059998\n",
       "2006-01-03    268.679993\n",
       "2006-01-04    248.679993\n",
       "2006-01-05    245.720001\n",
       "2006-01-06    241.639999\n",
       "                 ...    \n",
       "2100-12-27    271.640015\n",
       "2100-12-28    270.350006\n",
       "2100-12-29    268.989990\n",
       "2100-12-30    266.399994\n",
       "2100-12-31    266.869995\n",
       "Name: Ambler, Length: 34697, dtype: float32"
      ]
     },
     "execution_count": 13,
     "metadata": {},
     "output_type": "execute_result"
    }
   ],
   "source": [
    "# inspect results by variable and output type and place\n",
    "climate_data_di[\"t2min\"][\"daily_rcp85_cm3\"][\"Ambler\"]"
   ]
  },
  {
   "cell_type": "code",
   "execution_count": 16,
   "id": "5d6c2334",
   "metadata": {},
   "outputs": [
    {
     "data": {
      "text/plain": [
       "292.8795"
      ]
     },
     "execution_count": 16,
     "metadata": {},
     "output_type": "execute_result"
    }
   ],
   "source": [
    "# inspect results by variable and output type and place and time\n",
    "climate_data_di[\"t2min\"][\"daily_rcp85_cm3\"][\"Ambler\"].loc[\"2099-07-04\"]"
   ]
  },
  {
   "cell_type": "code",
   "execution_count": 17,
   "id": "5fda2489",
   "metadata": {},
   "outputs": [
    {
     "data": {
      "text/plain": [
       "2099-07-04    292.879486\n",
       "2099-07-05    290.896820\n",
       "2099-07-06    287.966492\n",
       "2099-07-07    286.342255\n",
       "2099-07-08    290.897614\n",
       "2099-07-09    292.350128\n",
       "2099-07-10    295.230804\n",
       "2099-07-11    294.635559\n",
       "Name: Ambler, dtype: float32"
      ]
     },
     "execution_count": 17,
     "metadata": {},
     "output_type": "execute_result"
    }
   ],
   "source": [
    "# inspect results by variable and output type and place and time range\n",
    "climate_data_di[\"t2min\"][\"daily_rcp85_cm3\"][\"Ambler\"].loc[\"2099-07-04\":\"2099-07-11\"]"
   ]
  },
  {
   "cell_type": "code",
   "execution_count": 21,
   "id": "57a8552f",
   "metadata": {},
   "outputs": [
    {
     "name": "stdout",
     "output_type": "stream",
     "text": [
      "Ambler_daily_rcp85_cm3_t2\n",
      "Ambler_daily_historical_era_interim_reanalysis_t2\n",
      "Ambler_daily_historical_modeled_cm3_t2\n",
      "Ambler_hourly_reanalysis_t2\n",
      "Ambler_hourly_cm3_rcp85_t2\n",
      "Ambler_hourly_historical_modeled_cm3_t2\n",
      "Ambler_hourly_ccsm4_rcp85_t2\n",
      "Ambler_hourly_historical_modeled_ccsm4_t2\n",
      "Ambler_daily_rcp85_cm3_t2max\n",
      "Ambler_daily_historical_era_interim_reanalysis_t2max\n",
      "Ambler_daily_historical_modeled_cm3_t2max\n",
      "Ambler_daily_rcp85_cm3_t2min\n",
      "Ambler_daily_historical_era_interim_reanalysis_t2min\n",
      "Ambler_daily_historical_modeled_cm3_t2min\n"
     ]
    }
   ],
   "source": [
    "for j in climate_data_di.keys():\n",
    "    for k in climate_data_di[j]:\n",
    "        \n",
    "        print(\"Ambler_\"+ k + \"_\" + j)"
   ]
  },
  {
   "cell_type": "code",
   "execution_count": null,
   "id": "66f2d081",
   "metadata": {},
   "outputs": [],
   "source": [
    "climate_data_di[var][\"hourly_cm3_rcp85\"].isnull().values.any()\n",
    "climate_data_di[var][\"hourly_cm3_rcp85\"].isnull().sum()"
   ]
  },
  {
   "cell_type": "code",
   "execution_count": null,
   "id": "5ee2277c",
   "metadata": {},
   "outputs": [],
   "source": [
    "x = climate_data_di[var][\"hourly_cm3_rcp85\"]\n",
    "x[x == np.nan]"
   ]
  },
  {
   "cell_type": "code",
   "execution_count": null,
   "id": "1a7ac5b4",
   "metadata": {},
   "outputs": [],
   "source": [
    "ds = xr.open_dataset(hourly_reanalysis_fps[0])\n",
    "ds"
   ]
  },
  {
   "cell_type": "code",
   "execution_count": 18,
   "id": "c015d0dd",
   "metadata": {},
   "outputs": [
    {
     "data": {
      "text/plain": [
       "[PosixPath('/rcs/project_data/wrf_data/hourly_fix/t2/t2_hourly_wrf_ERA-Interim_historical_1994.nc'),\n",
       " PosixPath('/rcs/project_data/wrf_data/hourly_fix/t2/t2_hourly_wrf_ERA-Interim_historical_2002.nc'),\n",
       " PosixPath('/rcs/project_data/wrf_data/hourly_fix/t2/t2_hourly_wrf_ERA-Interim_historical_2010.nc'),\n",
       " PosixPath('/rcs/project_data/wrf_data/hourly_fix/t2/t2_hourly_wrf_GFDL-CM3_rcp85_2026.nc'),\n",
       " PosixPath('/rcs/project_data/wrf_data/hourly_fix/t2/t2_hourly_wrf_GFDL-CM3_rcp85_2042.nc'),\n",
       " PosixPath('/rcs/project_data/wrf_data/hourly_fix/t2/t2_hourly_wrf_GFDL-CM3_rcp85_2097.nc'),\n",
       " PosixPath('/rcs/project_data/wrf_data/hourly_fix/t2/t2_hourly_wrf_GFDL-CM3_rcp85_2050.nc'),\n",
       " PosixPath('/rcs/project_data/wrf_data/hourly_fix/t2/t2_hourly_wrf_GFDL-CM3_historical_1970.nc'),\n",
       " PosixPath('/rcs/project_data/wrf_data/hourly_fix/t2/t2_hourly_wrf_GFDL-CM3_historical_2002.nc'),\n",
       " PosixPath('/rcs/project_data/wrf_data/hourly_fix/t2/t2_hourly_wrf_GFDL-CM3_historical_1980.nc'),\n",
       " PosixPath('/rcs/project_data/wrf_data/hourly_fix/t2/t2_hourly_wrf_GFDL-CM3_historical_1988.nc'),\n",
       " PosixPath('/rcs/project_data/wrf_data/hourly_fix/t2/t2_hourly_wrf_NCAR-CCSM4_rcp85_2076.nc'),\n",
       " PosixPath('/rcs/project_data/wrf_data/hourly_fix/t2/t2_hourly_wrf_NCAR-CCSM4_rcp85_2068.nc'),\n",
       " PosixPath('/rcs/project_data/wrf_data/hourly_fix/t2/t2_hourly_wrf_NCAR-CCSM4_rcp85_2092.nc'),\n",
       " PosixPath('/rcs/project_data/wrf_data/hourly_fix/t2/t2_hourly_wrf_NCAR-CCSM4_rcp85_2060.nc'),\n",
       " PosixPath('/rcs/project_data/wrf_data/hourly_fix/t2/t2_hourly_wrf_NCAR-CCSM4_rcp85_2084.nc')]"
      ]
     },
     "execution_count": 18,
     "metadata": {},
     "output_type": "execute_result"
    }
   ],
   "source": [
    "no_coord_files"
   ]
  },
  {
   "cell_type": "code",
   "execution_count": 54,
   "id": "96d7373b",
   "metadata": {},
   "outputs": [],
   "source": [
    "def compute_mean(df, location, time_start, time_stop):\n",
    "    return df.dropna(axis=0, how='all')[location].loc[time_start:time_stop].mean()\n",
    "\n",
    "def compute_bias(modeled_mean, observed_mean):\n",
    "    return modeled_mean - observed_mean\n",
    "\n",
    "def apply_bias(df, location, bias):\n",
    "    df[location] = df[location] + bias\n",
    "    return df"
   ]
  },
  {
   "cell_type": "code",
   "execution_count": 56,
   "id": "9108a7e7",
   "metadata": {},
   "outputs": [],
   "source": [
    "for var in climate_vars:\n",
    "    for place in wgs84_coords.keys():\n",
    "        era_mean = compute_mean(climate_data_di[var][\"daily_historical_era_interim_reanalysis\"],\n",
    "                                place, \"1980-01-01\", \"2009-12-31\")\n",
    "        cm3_historical_mean = compute_mean(climate_data_di[var][\"daily_historical_modeled_cm3\"],\n",
    "                                place, \"1980-01-01\", \"2009-12-31\")\n",
    "        bias = compute_bias(cm3_historical_mean, era_mean)\n",
    "        apply_bias(climate_data_di[var][\"daily_rcp85_cm3\"], place, bias)\n",
    "        "
   ]
  },
  {
   "cell_type": "code",
   "execution_count": 62,
   "id": "bbeb9478",
   "metadata": {},
   "outputs": [
    {
     "data": {
      "text/html": [
       "<div>\n",
       "<style scoped>\n",
       "    .dataframe tbody tr th:only-of-type {\n",
       "        vertical-align: middle;\n",
       "    }\n",
       "\n",
       "    .dataframe tbody tr th {\n",
       "        vertical-align: top;\n",
       "    }\n",
       "\n",
       "    .dataframe thead th {\n",
       "        text-align: right;\n",
       "    }\n",
       "</style>\n",
       "<table border=\"1\" class=\"dataframe\">\n",
       "  <thead>\n",
       "    <tr style=\"text-align: right;\">\n",
       "      <th></th>\n",
       "      <th>Chefornak</th>\n",
       "      <th>Ambler</th>\n",
       "    </tr>\n",
       "  </thead>\n",
       "  <tbody>\n",
       "    <tr>\n",
       "      <th>2002-01-01 00:00:00</th>\n",
       "      <td>249.160004</td>\n",
       "      <td>242.169998</td>\n",
       "    </tr>\n",
       "    <tr>\n",
       "      <th>2002-01-01 01:00:00</th>\n",
       "      <td>249.039993</td>\n",
       "      <td>243.100006</td>\n",
       "    </tr>\n",
       "    <tr>\n",
       "      <th>2002-01-01 02:00:00</th>\n",
       "      <td>248.509995</td>\n",
       "      <td>243.500000</td>\n",
       "    </tr>\n",
       "    <tr>\n",
       "      <th>2002-01-01 03:00:00</th>\n",
       "      <td>247.979996</td>\n",
       "      <td>243.669998</td>\n",
       "    </tr>\n",
       "    <tr>\n",
       "      <th>2002-01-01 04:00:00</th>\n",
       "      <td>247.770004</td>\n",
       "      <td>243.610001</td>\n",
       "    </tr>\n",
       "    <tr>\n",
       "      <th>...</th>\n",
       "      <td>...</td>\n",
       "      <td>...</td>\n",
       "    </tr>\n",
       "    <tr>\n",
       "      <th>1977-12-31 19:00:00</th>\n",
       "      <td>226.339996</td>\n",
       "      <td>238.289993</td>\n",
       "    </tr>\n",
       "    <tr>\n",
       "      <th>1977-12-31 20:00:00</th>\n",
       "      <td>226.649994</td>\n",
       "      <td>238.630005</td>\n",
       "    </tr>\n",
       "    <tr>\n",
       "      <th>1977-12-31 21:00:00</th>\n",
       "      <td>226.800003</td>\n",
       "      <td>238.479996</td>\n",
       "    </tr>\n",
       "    <tr>\n",
       "      <th>1977-12-31 22:00:00</th>\n",
       "      <td>226.880005</td>\n",
       "      <td>238.679993</td>\n",
       "    </tr>\n",
       "    <tr>\n",
       "      <th>1977-12-31 23:00:00</th>\n",
       "      <td>226.820007</td>\n",
       "      <td>239.110001</td>\n",
       "    </tr>\n",
       "  </tbody>\n",
       "</table>\n",
       "<p>315312 rows × 2 columns</p>\n",
       "</div>"
      ],
      "text/plain": [
       "                      Chefornak      Ambler\n",
       "2002-01-01 00:00:00  249.160004  242.169998\n",
       "2002-01-01 01:00:00  249.039993  243.100006\n",
       "2002-01-01 02:00:00  248.509995  243.500000\n",
       "2002-01-01 03:00:00  247.979996  243.669998\n",
       "2002-01-01 04:00:00  247.770004  243.610001\n",
       "...                         ...         ...\n",
       "1977-12-31 19:00:00  226.339996  238.289993\n",
       "1977-12-31 20:00:00  226.649994  238.630005\n",
       "1977-12-31 21:00:00  226.800003  238.479996\n",
       "1977-12-31 22:00:00  226.880005  238.679993\n",
       "1977-12-31 23:00:00  226.820007  239.110001\n",
       "\n",
       "[315312 rows x 2 columns]"
      ]
     },
     "execution_count": 62,
     "metadata": {},
     "output_type": "execute_result"
    }
   ],
   "source": [
    "climate_data_di[\"t2\"][\"hourly_historical_modeled_ccsm4\"]"
   ]
  },
  {
   "cell_type": "code",
   "execution_count": 57,
   "id": "da288151",
   "metadata": {},
   "outputs": [
    {
     "data": {
      "text/plain": [
       "{'daily_rcp85_cm3':              Chefornak      Ambler\n",
       " 2006-01-02  263.279114  259.760315\n",
       " 2006-01-03  268.279114  269.380310\n",
       " 2006-01-04  263.749115  249.380310\n",
       " 2006-01-05  256.329102  246.420319\n",
       " 2006-01-06  253.679108  242.340317\n",
       " ...                ...         ...\n",
       " 2100-12-27  278.649109  272.340332\n",
       " 2100-12-28  278.369110  271.050323\n",
       " 2100-12-29  274.839111  269.690308\n",
       " 2100-12-30  275.249115  267.100311\n",
       " 2100-12-31  278.379120  267.570312\n",
       " \n",
       " [34697 rows x 2 columns],\n",
       " 'daily_historical_era_interim_reanalysis':              Chefornak      Ambler\n",
       " 1979-01-02  272.570007  260.920013\n",
       " 1979-01-03  274.220001  263.690002\n",
       " 1979-01-04  275.510010  256.720001\n",
       " 1979-01-05  275.089996  256.920013\n",
       " 1979-01-06  273.380005  255.539993\n",
       " ...                ...         ...\n",
       " 2015-10-25  277.589996  268.660004\n",
       " 2015-10-26  276.899994  272.739990\n",
       " 2015-10-27  277.170013  270.970001\n",
       " 2015-10-28  275.700012  263.359985\n",
       " 2015-10-29  271.829987  259.839996\n",
       " \n",
       " [13450 rows x 2 columns],\n",
       " 'daily_historical_modeled_cm3':              Chefornak      Ambler\n",
       " 1970-01-02  273.970001  266.600006\n",
       " 1970-01-03  273.540009  268.040009\n",
       " 1970-01-04  270.119995  267.390015\n",
       " 1970-01-05  269.510010  265.549988\n",
       " 1970-01-06  266.779999  264.890015\n",
       " ...                ...         ...\n",
       " 2005-12-29  273.619995  269.660004\n",
       " 2005-12-30  274.260010  271.070007\n",
       " 2005-12-31  268.980011  265.660004\n",
       " 2006-01-01  263.109985  258.160004\n",
       " 2006-01-02  266.359985  259.359985\n",
       " \n",
       " [13150 rows x 2 columns]}"
      ]
     },
     "execution_count": 57,
     "metadata": {},
     "output_type": "execute_result"
    }
   ],
   "source": [
    "for place in wgs84_coords.keys():\n",
    "    cm3_historical_mean = compute_mean(climate_data_di[var][\"hourly_historical_modeled_cm3\"],\n",
    "                            place, \"1980-01-01\", \"2009-12-31\")\n",
    "    ccsm4_historical_mean = compute_mean(climate_data_di[var][\"hourly_historical_modeled_cm3\"],\n",
    "                        place, \"1980-01-01\", \"2009-12-31\")\n",
    "\n",
    "    cm3_bias = compute_bias(cm3_historical_mean, era_mean)\n",
    "    ccsm4_bias = compute_bias(ccsm4_historical_mean, era_mean)\n",
    "    \n",
    "    apply_bias(climate_data_di[var][\"hourly_ccsm4_rcp85\"], place, ccsm4_bias)\n",
    "    apply_bias(climate_data_di[var][\"hourly_cm3_rcp85\"], place, cm3_bias)\n"
   ]
  },
  {
   "cell_type": "code",
   "execution_count": 43,
   "id": "c59baeeb",
   "metadata": {},
   "outputs": [
    {
     "data": {
      "text/plain": [
       "265.98804"
      ]
     },
     "execution_count": 43,
     "metadata": {},
     "output_type": "execute_result"
    }
   ],
   "source": [
    "era_reanalysis_mean"
   ]
  },
  {
   "cell_type": "code",
   "execution_count": 44,
   "id": "c242f58b",
   "metadata": {},
   "outputs": [
    {
     "data": {
      "text/plain": [
       "0.7003174"
      ]
     },
     "execution_count": 44,
     "metadata": {},
     "output_type": "execute_result"
    }
   ],
   "source": [
    "compute_bias(model_historical_mean, era_reanalysis_mean)"
   ]
  },
  {
   "cell_type": "code",
   "execution_count": 27,
   "id": "6daf3159",
   "metadata": {},
   "outputs": [
    {
     "data": {
      "text/plain": [
       "268.5943"
      ]
     },
     "execution_count": 27,
     "metadata": {},
     "output_type": "execute_result"
    }
   ],
   "source": []
  },
  {
   "cell_type": "code",
   "execution_count": null,
   "id": "576e12ce",
   "metadata": {},
   "outputs": [],
   "source": []
  }
 ],
 "metadata": {
  "kernelspec": {
   "display_name": "Python 3 (ipykernel)",
   "language": "python",
   "name": "python3"
  },
  "language_info": {
   "codemirror_mode": {
    "name": "ipython",
    "version": 3
   },
   "file_extension": ".py",
   "mimetype": "text/x-python",
   "name": "python",
   "nbconvert_exporter": "python",
   "pygments_lexer": "ipython3",
   "version": "3.8.12"
  }
 },
 "nbformat": 4,
 "nbformat_minor": 5
}
