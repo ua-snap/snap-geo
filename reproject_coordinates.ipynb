{
 "cells": [
  {
   "cell_type": "markdown",
   "id": "9680973c-6dc3-4408-858c-4b282d987ad7",
   "metadata": {},
   "source": [
    "# Reprojecting coordinate pairs\n",
    "\n",
    "Reproject pairs of coordinates using the `pyproj` library."
   ]
  },
  {
   "cell_type": "code",
   "execution_count": 1,
   "id": "a7e080c2-1219-48d7-ac0c-d38f5c55a54f",
   "metadata": {},
   "outputs": [],
   "source": [
    "from pyproj import Transformer\n",
    "from pyproj.crs import CRS"
   ]
  },
  {
   "cell_type": "markdown",
   "id": "75acddc5-e183-4ad9-9d74-623c9b7b15b4",
   "metadata": {},
   "source": [
    "Dict of sample coordinate pairs (could just be a simple list as well):"
   ]
  },
  {
   "cell_type": "code",
   "execution_count": 3,
   "id": "70432bf6-61ec-486e-8268-333cb825e926",
   "metadata": {},
   "outputs": [],
   "source": [
    "wgs84_coords = {\n",
    "    \"p1\": (65.857, -147.86),\n",
    "    \"p2\": (60.128, -149.417),\n",
    "    \"p3\": (66.565, -152.643),\n",
    "    \"p4\": (59.24, -135.51),\n",
    "    \"p5\": (67.37, -165.54),\n",
    "}"
   ]
  },
  {
   "cell_type": "markdown",
   "id": "dc37b0c7-cd42-4607-9113-7dd4e779fb00",
   "metadata": {},
   "source": [
    "Reproject from EPSG:4326 to EPSG:3338 by specifying source CRS and target CRS in the `from_crs()` function, then using the `transform` method:"
   ]
  },
  {
   "cell_type": "code",
   "execution_count": 9,
   "id": "fa5d0e6c-ab05-416e-bc19-ef56871d2105",
   "metadata": {},
   "outputs": [
    {
     "data": {
      "text/plain": [
       "{'p1_3338': (280430.7467019697, 1779502.4752015218),\n",
       " 'p2_3338': (253576.23264155164, 1135359.3852707124),\n",
       " 'p3_3338': (60453.058350979816, 1845893.8418211928),\n",
       " 'p4_3338': (1037973.6664627154, 1172743.5751594375),\n",
       " 'p5_3338': (-496098.2506273869, 1977849.7039923822)}"
      ]
     },
     "execution_count": 9,
     "metadata": {},
     "output_type": "execute_result"
    }
   ],
   "source": [
    "transformer = Transformer.from_crs(4326, 3338)\n",
    "\n",
    "proj_coords = {\n",
    "    p_name + \"_3338\": transformer.transform(*coords)\n",
    "    for p_name, coords in wgs84_coords.items()\n",
    "}\n",
    "\n",
    "proj_coords"
   ]
  },
  {
   "cell_type": "markdown",
   "id": "d3fddd5b-e728-4681-b440-65a651a86c4c",
   "metadata": {},
   "source": [
    "There is also an iterator/generator constructor that can handle a list of coordinate pairs:"
   ]
  },
  {
   "cell_type": "code",
   "execution_count": 10,
   "id": "7916edeb-7d09-4a02-8cae-cfef17385aa8",
   "metadata": {},
   "outputs": [
    {
     "data": {
      "text/plain": [
       "[(280430.7467019697, 1779502.4752015218),\n",
       " (253576.23264155164, 1135359.3852707124),\n",
       " (60453.058350979816, 1845893.8418211928),\n",
       " (1037973.6664627154, 1172743.5751594375),\n",
       " (-496098.2506273869, 1977849.7039923822)]"
      ]
     },
     "execution_count": 10,
     "metadata": {},
     "output_type": "execute_result"
    }
   ],
   "source": [
    "list(transformer.itransform(wgs84_coords.values()))"
   ]
  }
 ],
 "metadata": {
  "kernelspec": {
   "display_name": "snap-geo",
   "language": "python",
   "name": "snap-geo"
  },
  "language_info": {
   "codemirror_mode": {
    "name": "ipython",
    "version": 3
   },
   "file_extension": ".py",
   "mimetype": "text/x-python",
   "name": "python",
   "nbconvert_exporter": "python",
   "pygments_lexer": "ipython3",
   "version": "3.8.3"
  }
 },
 "nbformat": 4,
 "nbformat_minor": 5
}
