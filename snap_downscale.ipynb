{
 "cells": [
  {
   "cell_type": "markdown",
   "id": "fb13329b-5469-4040-9241-531420aafbaf",
   "metadata": {},
   "source": [
    "# Using the `ua-snap/downscale` repo for statistical downscaling of climate data\n",
    "\n",
    "This notebook provides a step-by-step guide to using the [`downscale`](https://github.com/ua-snap/snap-geo) package conduct simple delta-downscaling of some CRU-TS 4.05 data. Let's go!\n",
    "\n",
    "### Setup\n",
    "\n",
    "Start by setting some variables to specify what data should be downscaled:  "
   ]
  },
  {
   "cell_type": "markdown",
   "id": "6d4cda0d-7aa3-47ac-9f2d-c87f6f270ab2",
   "metadata": {},
   "source": [
    "* path to dataset to downscale (CRU-TS 4.0, temperature):"
   ]
  },
  {
   "cell_type": "code",
   "execution_count": 1,
   "id": "0cc5d627-b24e-45dc-960a-3b6ee8044514",
   "metadata": {},
   "outputs": [
    {
     "name": "stdout",
     "output_type": "stream",
     "text": [
      "netcdf cru_ts4.05.1901.2020.tmp.dat {\n",
      "dimensions:\n",
      "\tlon = 720 ;\n",
      "\tlat = 360 ;\n",
      "\ttime = UNLIMITED ; // (1440 currently)\n",
      "variables:\n",
      "\tfloat lon(lon) ;\n",
      "\t\tlon:long_name = \"longitude\" ;\n",
      "\t\tlon:units = \"degrees_east\" ;\n",
      "\tfloat lat(lat) ;\n",
      "\t\tlat:long_name = \"latitude\" ;\n",
      "\t\tlat:units = \"degrees_north\" ;\n",
      "\tfloat time(time) ;\n",
      "\t\ttime:long_name = \"time\" ;\n",
      "\t\ttime:units = \"days since 1900-1-1\" ;\n",
      "\t\ttime:calendar = \"gregorian\" ;\n",
      "\tfloat tmp(time, lat, lon) ;\n",
      "\t\ttmp:long_name = \"near-surface temperature\" ;\n",
      "\t\ttmp:units = \"degrees Celsius\" ;\n",
      "\t\ttmp:correlation_decay_distance = 1200.f ;\n",
      "\t\ttmp:_FillValue = 9.96921e+36f ;\n",
      "\t\ttmp:missing_value = 9.96921e+36f ;\n",
      "\tint stn(time, lat, lon) ;\n",
      "\t\tstn:description = \"number of stations contributing to each datum\" ;\n",
      "\t\tstn:_FillValue = -999 ;\n",
      "\t\tstn:missing_value = -999 ;\n",
      "\n",
      "// global attributes:\n",
      "\t\t:Conventions = \"CF-1.4\" ;\n",
      "\t\t:title = \"CRU TS4.05 Mean Temperature\" ;\n",
      "\t\t:institution = \"Data held at British Atmospheric Data Centre, RAL, UK.\" ;\n",
      "\t\t:source = \"Run ID = 2103051243. Data generated from:tmp.2103041709.dtb\" ;\n",
      "\t\t:history = \"Fri  5 Mar 13:25:53 GMT 2021 : User harry : Program makegridsauto.for called by update.for\" ;\n",
      "\t\t:references = \"Information on the data is available at http://badc.nerc.ac.uk/data/cru/\" ;\n",
      "\t\t:comment = \"Access to these data is available to any registered CEDA user.\" ;\n",
      "\t\t:contact = \"support@ceda.ac.uk\" ;\n",
      "}\n"
     ]
    }
   ],
   "source": [
    "!ncdump -h /Data/Base_Data/Climate/World/CRU_grids/CRU_TS405/cru_ts4.05.1901.2020.tmp.dat.nc"
   ]
  },
  {
   "cell_type": "code",
   "execution_count": 2,
   "id": "cd4f338b-c69c-4188-9b4b-ca37bab42120",
   "metadata": {},
   "outputs": [],
   "source": [
    "in_fp = f\"/Data/Base_Data/Climate/World/CRU_grids/CRU_TS405/cru_ts4.05.1901.2020.tmp.dat.nc\""
   ]
  },
  {
   "cell_type": "markdown",
   "id": "92b3acb5-fec3-40ef-b1f5-205013e394b9",
   "metadata": {},
   "source": [
    "* path to directory containing baseline monthly climatology files to use (PRISM, 1961-1990):"
   ]
  },
  {
   "cell_type": "code",
   "execution_count": 3,
   "id": "9b1bf65f-22fa-461d-abd1-cfab17e231eb",
   "metadata": {},
   "outputs": [],
   "source": [
    "from pathlib import Path\n",
    "\n",
    "\n",
    "clim_dir = Path(f\"/workspace/Shared/Tech_Projects/DeltaDownscaling/project_data/climatologies/prism/tas\")"
   ]
  },
  {
   "cell_type": "code",
   "execution_count": 4,
   "id": "b6718d6a-dccf-4277-b07d-1bf1daddd2db",
   "metadata": {},
   "outputs": [
    {
     "name": "stdout",
     "output_type": "stream",
     "text": [
      "tas_mean_C_akcan_prism_01_1961_1990.tif\n",
      "tas_mean_C_akcan_prism_02_1961_1990.tif\n",
      "tas_mean_C_akcan_prism_03_1961_1990.tif\n",
      "tas_mean_C_akcan_prism_04_1961_1990.tif\n",
      "tas_mean_C_akcan_prism_05_1961_1990.tif\n",
      "tas_mean_C_akcan_prism_06_1961_1990.tif\n",
      "tas_mean_C_akcan_prism_07_1961_1990.tif\n",
      "tas_mean_C_akcan_prism_08_1961_1990.tif\n",
      "tas_mean_C_akcan_prism_09_1961_1990.tif\n",
      "tas_mean_C_akcan_prism_10_1961_1990.tif\n",
      "tas_mean_C_akcan_prism_11_1961_1990.tif\n",
      "tas_mean_C_akcan_prism_12_1961_1990.tif\n"
     ]
    }
   ],
   "source": [
    "!ls /workspace/Shared/Tech_Projects/DeltaDownscaling/project_data/climatologies/prism/tas"
   ]
  },
  {
   "cell_type": "markdown",
   "id": "cc916f49-4932-4f43-9b40-a3deece1d0f7",
   "metadata": {},
   "source": [
    "* number of cores to use for parallel processing:"
   ]
  },
  {
   "cell_type": "code",
   "execution_count": 5,
   "id": "4335311f-3470-4cc1-b8ac-adf804a5df49",
   "metadata": {},
   "outputs": [],
   "source": [
    "# 32 is max on Atlas compute node\n",
    "ncpus = 32"
   ]
  },
  {
   "cell_type": "markdown",
   "id": "3ebdeeef-aa07-430e-915b-66b7406ba2ac",
   "metadata": {},
   "source": [
    "* path to directory for output files:"
   ]
  },
  {
   "cell_type": "code",
   "execution_count": 6,
   "id": "cf1d95b2-6401-4671-a2f7-4f9efd62d82e",
   "metadata": {},
   "outputs": [],
   "source": [
    "output_dir = Path(\"/atlas_scratch/kmredilla/downscale/CRU_TS405/tas\")\n",
    "output_dir.mkdir(exist_ok=True, parents=True)"
   ]
  },
  {
   "cell_type": "markdown",
   "id": "10574693-a471-43a5-a363-57a8eb6eaa79",
   "metadata": {},
   "source": [
    "### Processing"
   ]
  },
  {
   "cell_type": "code",
   "execution_count": 7,
   "id": "7bf2b277-4d72-443d-9a4a-ba8df346359f",
   "metadata": {},
   "outputs": [],
   "source": [
    "# this seems to help with errors like this:\n",
    "#  OpenBLAS blas_thread_init: pthread_create failed for thread 29 of 32: Resource temporarily unavailable\n",
    "import os\n",
    "os.environ['OPENBLAS_NUM_THREADS'] = '1'"
   ]
  },
  {
   "cell_type": "markdown",
   "id": "442d5ca4-b1df-428e-bb13-360b6268965b",
   "metadata": {},
   "source": [
    "Create a `Baseline` object from the baseline files:"
   ]
  },
  {
   "cell_type": "code",
   "execution_count": 8,
   "id": "88e3c2ed-f7a8-470a-a04c-b72224738bda",
   "metadata": {},
   "outputs": [],
   "source": [
    "from downscale import Baseline\n",
    "\n",
    "\n",
    "baseline = Baseline(sorted(list(clim_dir.glob(\"*.tif\"))))"
   ]
  },
  {
   "cell_type": "markdown",
   "id": "424158eb-eb3e-409a-841e-7b5b2da647d6",
   "metadata": {},
   "source": [
    "Create a historical `Dataset` object from the CRU-TS dataset:\n",
    "\n",
    "(does some grid rearranging in background, hence the elapsed time. Also prints an obscure \"level\" value)"
   ]
  },
  {
   "cell_type": "code",
   "execution_count": 9,
   "id": "6fe042f4-ec18-492e-9516-77168aa98705",
   "metadata": {},
   "outputs": [
    {
     "name": "stdout",
     "output_type": "stream",
     "text": [
      "4\n",
      "CPU times: user 3.54 s, sys: 1.57 s, total: 5.11 s\n",
      "Wall time: 5.13 s\n"
     ]
    }
   ],
   "source": [
    "from downscale import Dataset\n",
    "\n",
    "\n",
    "# not sure if these value should ever change atm.\n",
    "clim_begin = \"01-1961\"\n",
    "clim_end = \"12-1990\"\n",
    "# the following variables seem to be determined by the input file(s)\n",
    "#  but still need to be specified for now\n",
    "variable = \"tmp\"\n",
    "model = \"ts40\"\n",
    "scenario = \"historical\"\n",
    "project = \"cru\"\n",
    "units = \"C\"\n",
    "metric = \"mean\"\n",
    "\n",
    "ds_args = (\n",
    "    in_fp,\n",
    "    variable,\n",
    "    model,\n",
    "    scenario,\n",
    "    project,\n",
    "    units,\n",
    "    metric,\n",
    ")\n",
    "ds_kwargs = {\n",
    "    \"method\":\"linear\",\n",
    "    \"ncpus\": ncpus,\n",
    "}\n",
    "\n",
    "# put on one line for timing purposes\n",
    "%time historical = Dataset(*ds_args, **ds_kwargs)"
   ]
  },
  {
   "cell_type": "markdown",
   "id": "91eac36f-b8a0-4d32-84a5-fa12ade4e2ef",
   "metadata": {},
   "source": [
    "Define some more options, and a function for rounding the outputs:"
   ]
  },
  {
   "cell_type": "code",
   "execution_count": 10,
   "id": "9ef70d1e-c12c-429d-b509-5e5091a8cca0",
   "metadata": {},
   "outputs": [],
   "source": [
    "import numpy as np\n",
    "from functools import partial\n",
    "\n",
    "\n",
    "rounder = partial(np.around, decimals=1)\n",
    "downscaling_operation = \"add\"\n",
    "out_varname = \"tas\"\n",
    "# write anomalies as well\n",
    "anom = True\n",
    "# interpolate across NA's using a spline\n",
    "interp = True\n",
    "find_bounds = False\n",
    "fix_clim = False\n",
    "aoi_mask = None\n",
    "        \n",
    "def round_it(arr):\n",
    "    return rounder(arr)"
   ]
  },
  {
   "cell_type": "markdown",
   "id": "014f1b6f-f411-4011-80e0-f5c8570272fc",
   "metadata": {},
   "source": [
    "Read in a mask from one of the PRSIM climatology files:"
   ]
  },
  {
   "cell_type": "code",
   "execution_count": 11,
   "id": "38e4bdba-a38b-4ee4-9bfd-3f0e6662db19",
   "metadata": {},
   "outputs": [],
   "source": [
    "import rasterio as rio\n",
    "\n",
    "\n",
    "with rio.open(baseline.filelist[0]) as src:\n",
    "    mask = src.read_masks(1)"
   ]
  },
  {
   "cell_type": "markdown",
   "id": "011bffc7-7174-40b6-97c9-8cf5548d9434",
   "metadata": {},
   "source": [
    "Create a `DeltaDownscale` class using the above objects and options:"
   ]
  },
  {
   "cell_type": "code",
   "execution_count": 12,
   "id": "d17e7d35-b9c0-42d2-8d96-3c87f2ee0e71",
   "metadata": {},
   "outputs": [
    {
     "name": "stdout",
     "output_type": "stream",
     "text": [
      "running interpolation across NAs -- base resolution\n",
      "processing interpolation to convex hull in parallel using 32 cpus.\n",
      "ds interpolated updated into self.ds\n",
      "CPU times: user 16.6 s, sys: 8.74 s, total: 25.4 s\n",
      "Wall time: 2min 32s\n"
     ]
    }
   ],
   "source": [
    "from downscale import DeltaDownscale\n",
    "\n",
    "\n",
    "# FOR CRU WE PASS THE interp=True so we interpolate across space first when creating the Dataset()\n",
    "# ^^ note from a script\n",
    "\n",
    "dd_kwargs = {\n",
    "    \"baseline\": baseline,\n",
    "    \"clim_begin\": clim_begin,\n",
    "    \"clim_end\": clim_end,\n",
    "    \"historical\": historical,\n",
    "    \"future\": None,\n",
    "    \"downscaling_operation\": downscaling_operation,\n",
    "    \"mask\": mask,\n",
    "    \"mask_value\": 0,\n",
    "    \"ncpus\": ncpus,\n",
    "    \"src_crs\": {\"init\": \"epsg:4326\"},\n",
    "    \"src_nodata\": None,\n",
    "    \"dst_nodata\": None,\n",
    "    \"post_downscale_function\": round_it,\n",
    "    \"varname\": out_varname,\n",
    "    \"modelname\": None,\n",
    "    \"anom\": anom,\n",
    "    \"interp\": interp,\n",
    "    \"find_bounds\": find_bounds,\n",
    "    \"fix_clim\": fix_clim,\n",
    "    \"aoi_mask\": aoi_mask,\n",
    "}\n",
    "\n",
    "%time cru = DeltaDownscale(**dd_kwargs)"
   ]
  },
  {
   "cell_type": "markdown",
   "id": "30a23c50-c4d5-429b-9550-b14455b623d2",
   "metadata": {},
   "source": [
    "Run the downscaling:"
   ]
  },
  {
   "cell_type": "code",
   "execution_count": null,
   "id": "7b84dbd8-2654-41d7-9f1f-58a2bcbe2385",
   "metadata": {},
   "outputs": [],
   "source": [
    "%time cru.downscale(output_dir=output_dir)"
   ]
  }
 ],
 "metadata": {
  "kernelspec": {
   "display_name": "Python 3 (ipykernel)",
   "language": "python",
   "name": "python3"
  },
  "language_info": {
   "codemirror_mode": {
    "name": "ipython",
    "version": 3
   },
   "file_extension": ".py",
   "mimetype": "text/x-python",
   "name": "python",
   "nbconvert_exporter": "python",
   "pygments_lexer": "ipython3",
   "version": "3.9.13"
  }
 },
 "nbformat": 4,
 "nbformat_minor": 5
}
