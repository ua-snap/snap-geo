{
 "cells": [
  {
   "cell_type": "markdown",
   "id": "fb13329b-5469-4040-9241-531420aafbaf",
   "metadata": {},
   "source": [
    "# Using the `ua-snap/downscale` repo for statistical downscaling of climate data\n",
    "\n",
    "This notebook provides a step-by-step guide to using the [`downscale`](https://github.com/ua-snap/snap-geo) package conduct simple delta-downscaling of some CRU-TS 4.08 data.\n",
    "\n",
    "This demonstration will be done with Chinook because that has beome our main processing system. \n",
    "\n",
    "## Setup\n",
    "\n",
    "### Environment\n",
    "\n",
    "You will want to spin up a compute node connect this notebook to it following the instructions in this [README](https://github.com/ua-snap/ardac-toolbox). The python code in the downscale repo needs to be accessible to this kernel, which can be achieved either by installing `downscale` as a package in the environment or by starting the jupyter server from within the base directory. Make sure the packages in the `requirements.txt` file are present in the environment. \n",
    "\n",
    "### Data\n",
    "\n",
    "The CRU-TS data is available from the [CRU website](https://crudata.uea.ac.uk/cru/data/hrg/), part of the University of East Anglia. The files of interest have historically looked like `cru_ts<version>.<start year>.<end year>.<variable>.dat.nc.gz`. This repo has been used for the `tmp` and `pre` data. Download and unzip the data. \n",
    "\n"
   ]
  },
  {
   "cell_type": "markdown",
   "id": "0282fd3a",
   "metadata": {},
   "source": [
    "Here's the imports we need:"
   ]
  },
  {
   "cell_type": "code",
   "execution_count": 1,
   "id": "ee4a67fc",
   "metadata": {},
   "outputs": [],
   "source": [
    "from pathlib import Path\n",
    "from functools import partial\n",
    "import numpy as np\n",
    "import rasterio as rio\n",
    "\n",
    "from downscale import Baseline, Dataset, DeltaDownscale"
   ]
  },
  {
   "cell_type": "markdown",
   "id": "60b55b13",
   "metadata": {},
   "source": [
    "Start by setting some variables to specify inputs:  \n",
    "* path to dataset to downscale:"
   ]
  },
  {
   "cell_type": "code",
   "execution_count": 2,
   "id": "cd4f338b-c69c-4188-9b4b-ca37bab42120",
   "metadata": {},
   "outputs": [],
   "source": [
    "cru_fp = f\"/beegfs/CMIP6/kmredilla/cru_ts/cru_ts4.08.1901.2023.pre.dat.nc\""
   ]
  },
  {
   "cell_type": "markdown",
   "id": "92b3acb5-fec3-40ef-b1f5-205013e394b9",
   "metadata": {},
   "source": [
    "* path to directory containing baseline monthly climatology files to use (PRISM, 1961-1990):"
   ]
  },
  {
   "cell_type": "code",
   "execution_count": 3,
   "id": "9b1bf65f-22fa-461d-abd1-cfab17e231eb",
   "metadata": {},
   "outputs": [],
   "source": [
    "clim_dir = Path(f\"/beegfs/CMIP6/kmredilla/prism/pr\")"
   ]
  },
  {
   "cell_type": "markdown",
   "id": "7d9e00d8",
   "metadata": {},
   "source": [
    "(Note, previous path for doing this processing with PRISM data is `/workspace/Shared/Tech_Projects/DeltaDownscaling/project_data/climatologies/prism`)"
   ]
  },
  {
   "cell_type": "markdown",
   "id": "cc916f49-4932-4f43-9b40-a3deece1d0f7",
   "metadata": {},
   "source": [
    "* number of cores to use for parallel processing:"
   ]
  },
  {
   "cell_type": "code",
   "execution_count": 4,
   "id": "4335311f-3470-4cc1-b8ac-adf804a5df49",
   "metadata": {},
   "outputs": [],
   "source": [
    "ncpus = 24"
   ]
  },
  {
   "cell_type": "markdown",
   "id": "3ebdeeef-aa07-430e-915b-66b7406ba2ac",
   "metadata": {},
   "source": [
    "* path to directory for output files:"
   ]
  },
  {
   "cell_type": "code",
   "execution_count": 5,
   "id": "cf1d95b2-6401-4671-a2f7-4f9efd62d82e",
   "metadata": {},
   "outputs": [],
   "source": [
    "var_id = \"pr\"\n",
    "output_dir = Path(f\"/beegfs/CMIP6/kmredilla/downscaled/CRU_TS408/{var_id}\")\n",
    "output_dir.mkdir(exist_ok=True, parents=True)"
   ]
  },
  {
   "cell_type": "markdown",
   "id": "10574693-a471-43a5-a363-57a8eb6eaa79",
   "metadata": {},
   "source": [
    "### Processing"
   ]
  },
  {
   "cell_type": "markdown",
   "id": "442d5ca4-b1df-428e-bb13-360b6268965b",
   "metadata": {},
   "source": [
    "Create a `Baseline` object from the baseline files:"
   ]
  },
  {
   "cell_type": "code",
   "execution_count": 6,
   "id": "88e3c2ed-f7a8-470a-a04c-b72224738bda",
   "metadata": {},
   "outputs": [],
   "source": [
    "baseline = Baseline(sorted(list(clim_dir.glob(\"*.tif\"))))"
   ]
  },
  {
   "cell_type": "markdown",
   "id": "424158eb-eb3e-409a-841e-7b5b2da647d6",
   "metadata": {},
   "source": [
    "Create a historical `Dataset` object from the CRU-TS dataset:\n",
    "\n",
    "(does some grid rearranging in background, hence the elapsed time. Also prints an obscure \"level\" value)"
   ]
  },
  {
   "cell_type": "code",
   "execution_count": 7,
   "id": "6fe042f4-ec18-492e-9516-77168aa98705",
   "metadata": {},
   "outputs": [
    {
     "name": "stdout",
     "output_type": "stream",
     "text": [
      "4\n",
      "CPU times: user 3.61 s, sys: 3.35 s, total: 6.96 s\n",
      "Wall time: 12.8 s\n"
     ]
    }
   ],
   "source": [
    "# not sure if these value should ever change atm.\n",
    "clim_begin = \"01-1961\"\n",
    "clim_end = \"12-1990\"\n",
    "# the following variables seem to be determined by the input file(s)\n",
    "#  but still need to be specified for now\n",
    "variable = \"pre\"\n",
    "model = \"ts408\"\n",
    "scenario = \"historical\"\n",
    "project = \"cru\"\n",
    "units = \"mm\"\n",
    "metric = \"total\"\n",
    "\n",
    "ds_args = (\n",
    "    cru_fp,\n",
    "    variable,\n",
    "    model,\n",
    "    scenario,\n",
    "    project,\n",
    "    units,\n",
    "    metric,\n",
    ")\n",
    "ds_kwargs = {\n",
    "    \"method\":\"linear\",\n",
    "    \"ncpus\": ncpus,\n",
    "}\n",
    "\n",
    "# put on one line for timing purposes\n",
    "%time historical = Dataset(*ds_args, **ds_kwargs)"
   ]
  },
  {
   "cell_type": "markdown",
   "id": "91eac36f-b8a0-4d32-84a5-fa12ade4e2ef",
   "metadata": {},
   "source": [
    "Define some more options, and a function for rounding the outputs:"
   ]
  },
  {
   "cell_type": "code",
   "execution_count": 8,
   "id": "9ef70d1e-c12c-429d-b509-5e5091a8cca0",
   "metadata": {},
   "outputs": [],
   "source": [
    "rounder = partial(np.around, decimals=0)\n",
    "downscaling_operation = \"add\"\n",
    "out_varname = var_id\n",
    "# write anomalies as well\n",
    "anom = True\n",
    "# interpolate across NA's using a spline\n",
    "interp = True\n",
    "find_bounds = False\n",
    "fix_clim = False\n",
    "aoi_mask = None\n",
    "\n",
    "\n",
    "def round_it(arr):\n",
    "    return rounder(arr)"
   ]
  },
  {
   "cell_type": "markdown",
   "id": "014f1b6f-f411-4011-80e0-f5c8570272fc",
   "metadata": {},
   "source": [
    "Read in a mask from one of the PRSIM climatology files:"
   ]
  },
  {
   "cell_type": "code",
   "execution_count": 9,
   "id": "38e4bdba-a38b-4ee4-9bfd-3f0e6662db19",
   "metadata": {},
   "outputs": [],
   "source": [
    "with rio.open(baseline.filelist[0]) as src:\n",
    "    mask = src.read_masks(1)"
   ]
  },
  {
   "cell_type": "markdown",
   "id": "011bffc7-7174-40b6-97c9-8cf5548d9434",
   "metadata": {},
   "source": [
    "Create a `DeltaDownscale` class using the above objects and options:"
   ]
  },
  {
   "cell_type": "code",
   "execution_count": 10,
   "id": "d17e7d35-b9c0-42d2-8d96-3c87f2ee0e71",
   "metadata": {},
   "outputs": [
    {
     "name": "stdout",
     "output_type": "stream",
     "text": [
      "running interpolation across NAs -- base resolution\n",
      "processing interpolation to convex hull in parallel using 24 cpus.\n",
      "ds interpolated updated into self.ds\n",
      "CPU times: user 8.04 s, sys: 8.62 s, total: 16.7 s\n",
      "Wall time: 2min 19s\n"
     ]
    }
   ],
   "source": [
    "# FOR CRU WE PASS THE interp=True so we interpolate across space first when creating the Dataset()\n",
    "# ^^ note from a script\n",
    "\n",
    "dd_kwargs = {\n",
    "    \"baseline\": baseline,\n",
    "    \"clim_begin\": clim_begin,\n",
    "    \"clim_end\": clim_end,\n",
    "    \"historical\": historical,\n",
    "    \"future\": None,\n",
    "    \"downscaling_operation\": downscaling_operation,\n",
    "    \"mask\": mask,\n",
    "    \"mask_value\": 0,\n",
    "    \"ncpus\": ncpus,\n",
    "    \"src_crs\": {\"init\": \"epsg:4326\"},\n",
    "    \"src_nodata\": None,\n",
    "    \"dst_nodata\": None,\n",
    "    \"post_downscale_function\": round_it,\n",
    "    \"varname\": out_varname,\n",
    "    \"modelname\": None,\n",
    "    \"anom\": anom,\n",
    "    \"interp\": interp,\n",
    "    \"find_bounds\": find_bounds,\n",
    "    \"fix_clim\": fix_clim,\n",
    "    \"aoi_mask\": aoi_mask,\n",
    "}\n",
    "\n",
    "%time cru = DeltaDownscale(**dd_kwargs)"
   ]
  },
  {
   "cell_type": "markdown",
   "id": "30a23c50-c4d5-429b-9550-b14455b623d2",
   "metadata": {},
   "source": [
    "Run the downscaling:"
   ]
  },
  {
   "cell_type": "code",
   "execution_count": 11,
   "id": "7b84dbd8-2654-41d7-9f1f-58a2bcbe2385",
   "metadata": {},
   "outputs": [
    {
     "name": "stdout",
     "output_type": "stream",
     "text": [
      "| 0.50, 0.00, 0.00|\n",
      "| 0.00,-0.50, 90.00|\n",
      "| 0.00, 0.00, 1.00|\n",
      "CPU times: user 2.29 s, sys: 3.27 s, total: 5.56 s\n",
      "Wall time: 1min 27s\n"
     ]
    },
    {
     "data": {
      "text/plain": [
       "PosixPath('/beegfs/CMIP6/kmredilla/downscaled/CRU_TS408/pr')"
      ]
     },
     "execution_count": 11,
     "metadata": {},
     "output_type": "execute_result"
    }
   ],
   "source": [
    "%time cru.downscale(output_dir=output_dir)"
   ]
  },
  {
   "cell_type": "markdown",
   "id": "b7b4b02b",
   "metadata": {},
   "source": [
    "If you are updating a dataset such as the [2km CRU TS precipitation](https://catalog.snap.uaf.edu/geonetwork/srv/eng/catalog.search#/metadata/9eeef879-42ee-4bbe-a54e-435716ad0c90):\n",
    "\n",
    "remove / copy out the `anom` folders in the output directories, \n",
    "\n",
    "```\n",
    "cd output_dir\n",
    "mv pr/anom pr_anom\n",
    "```\n",
    "\n",
    "rename the folder according to the existing convention\n",
    "\n",
    "```\n",
    "mv pr pr_AK_CAN_2km_CRU_TS408_historical\n",
    "```\n",
    "\n",
    "zip it\n",
    "\n",
    "```\n",
    "zip -r pr_AK_CAN_2km_CRU_TS408_historical.zip pr_AK_CAN_2km_CRU_TS408_historical\n",
    "```\n",
    "\n",
    "and copy to the CKAN directory on poseidon\n",
    "\n",
    "```\n",
    "scp pr_AK_CAN_2km_CRU_TS408_historical.zip kmredilla@poseidon.snap.uaf.edu://workspace/CKAN/CKAN_Data/Base/AK_CAN_2km/historical/CRU_TS/Historical_Monthly_and_Derived_Precipitation_Products_2km_CRU_TS/\n",
    "```\n"
   ]
  }
 ],
 "metadata": {
  "kernelspec": {
   "display_name": "Python 3 (ipykernel)",
   "language": "python",
   "name": "python3"
  },
  "language_info": {
   "codemirror_mode": {
    "name": "ipython",
    "version": 3
   },
   "file_extension": ".py",
   "mimetype": "text/x-python",
   "name": "python",
   "nbconvert_exporter": "python",
   "pygments_lexer": "ipython3",
   "version": "3.12.7"
  }
 },
 "nbformat": 4,
 "nbformat_minor": 5
}
