{
 "cells": [
  {
   "cell_type": "markdown",
   "id": "06d201b6-fc1a-4c72-b3c4-2d7b14ab8d46",
   "metadata": {},
   "source": [
    "# Summarize raster values within a polygon\n",
    "\n",
    "This method relies on the `zonal_stats` function of the `rasterstats` library. "
   ]
  },
  {
   "cell_type": "code",
   "execution_count": 1,
   "id": "7a2a8559-c5dd-42ff-87a9-cbb7859731a0",
   "metadata": {},
   "outputs": [],
   "source": [
    "import geopandas as gpd\n",
    "import matplotlib.pyplot as plt\n",
    "import numpy as np\n",
    "import rasterio as rio\n",
    "import xarray as xr\n",
    "from rasterstats import zonal_stats"
   ]
  },
  {
   "cell_type": "markdown",
   "id": "d9b3a2dc-f76e-432f-be43-c461e3b651dd",
   "metadata": {},
   "source": [
    "This example makes use of the \"Sea Ice Indicators\" dataset to provide the rasters we want to summarize over, `nsidc_0051_1979-2019_fubu.nc`:"
   ]
  },
  {
   "cell_type": "code",
   "execution_count": 2,
   "id": "99098da5-2b93-48cd-b7df-0cf918e33a5b",
   "metadata": {},
   "outputs": [],
   "source": [
    "fubu_fp = \"data/nsidc_0051_1979-2019_fubu.nc\"\n",
    "fubu = xr.load_dataset(\"data/nsidc_0051_1979-2019_fubu.nc\")"
   ]
  },
  {
   "cell_type": "markdown",
   "id": "f5313b19-851f-4a23-9c15-ee12f8240be4",
   "metadata": {},
   "source": [
    "This will rely on the MASIE regions for some polygons to extract to. \n",
    "\n",
    "Since the `fubu` dataset is in EPSG:3411, we must project the polygons via `to_crs()` method:"
   ]
  },
  {
   "cell_type": "code",
   "execution_count": 3,
   "id": "5266c35d-dc90-4754-92fa-1458d661542e",
   "metadata": {},
   "outputs": [],
   "source": [
    "masie_polys = gpd.read_file(\"ancillary/shp/MASIE_regions_4326.shp\").to_crs(3411)"
   ]
  },
  {
   "cell_type": "markdown",
   "id": "8c9b03fa-54ae-4a09-ab29-1f8c0ddbd34e",
   "metadata": {},
   "source": [
    "`zonal_stats` function requires the following:\n",
    "\n",
    "1. DataFrame of polygons\n",
    "2. raster / 2-D array \n",
    "3. affine transformation of the raster\n",
    "4. summary functions\n",
    "\n",
    "We will just use one polygon to start, so subset the DataFrame:\n",
    "\n",
    "(Important to remember double brakcets on the `.loc` call to retain DataFrame object.)"
   ]
  },
  {
   "cell_type": "code",
   "execution_count": 4,
   "id": "864a0ba5-e9ab-41c2-802d-21b4765b8913",
   "metadata": {},
   "outputs": [
    {
     "data": {
      "text/html": [
       "<div>\n",
       "<style scoped>\n",
       "    .dataframe tbody tr th:only-of-type {\n",
       "        vertical-align: middle;\n",
       "    }\n",
       "\n",
       "    .dataframe tbody tr th {\n",
       "        vertical-align: top;\n",
       "    }\n",
       "\n",
       "    .dataframe thead th {\n",
       "        text-align: right;\n",
       "    }\n",
       "</style>\n",
       "<table border=\"1\" class=\"dataframe\">\n",
       "  <thead>\n",
       "    <tr style=\"text-align: right;\">\n",
       "      <th></th>\n",
       "      <th>geometry</th>\n",
       "    </tr>\n",
       "    <tr>\n",
       "      <th>Name</th>\n",
       "      <th></th>\n",
       "    </tr>\n",
       "  </thead>\n",
       "  <tbody>\n",
       "    <tr>\n",
       "      <th>Central Arctic</th>\n",
       "      <td>POLYGON ((-1235162.383 -515666.718, -1010525.2...</td>\n",
       "    </tr>\n",
       "  </tbody>\n",
       "</table>\n",
       "</div>"
      ],
      "text/plain": [
       "                                                         geometry\n",
       "Name                                                             \n",
       "Central Arctic  POLYGON ((-1235162.383 -515666.718, -1010525.2..."
      ]
     },
     "execution_count": 4,
     "metadata": {},
     "output_type": "execute_result"
    }
   ],
   "source": [
    "central_arctic_poly = masie_polys.set_index(\"Name\").loc[[\"Central Arctic\"]]\n",
    "central_arctic_poly"
   ]
  },
  {
   "cell_type": "markdown",
   "id": "30bb257b-d62d-4b1b-97ca-d25f906d9664",
   "metadata": {},
   "source": [
    "We can get the affine transform, which maps array indices to coordinates, via `rasterio` by opening a single variable of the netCDF:"
   ]
  },
  {
   "cell_type": "code",
   "execution_count": 5,
   "id": "4ab1d0fb-526a-4ba0-bc91-900d1b3f1b80",
   "metadata": {},
   "outputs": [],
   "source": [
    "with rio.open(f\"netcdf:{fubu_fp}:breakup_end\") as src:\n",
    "    affine = src.meta[\"transform\"]"
   ]
  },
  {
   "cell_type": "markdown",
   "id": "540719b9-757d-471c-a7e5-ee63d6894e95",
   "metadata": {},
   "source": [
    "Select a variable and time slice to summarize over (i.e., get a raster):"
   ]
  },
  {
   "cell_type": "code",
   "execution_count": 6,
   "id": "5ac65eee-49a2-4540-9add-3b24ae330dcb",
   "metadata": {},
   "outputs": [],
   "source": [
    " arr = fubu[\"breakup_end\"].sel(year=1979).values"
   ]
  },
  {
   "cell_type": "markdown",
   "id": "0e235479-35aa-4bd6-90ac-5d2439f9f337",
   "metadata": {},
   "source": [
    "Create a summarizing function. For now, instead of actually doing anything to the data, this just returns the masked array from the intersecting of the raster and polygon."
   ]
  },
  {
   "cell_type": "code",
   "execution_count": 7,
   "id": "8836c837-cf6d-4123-b622-a256a5612dc4",
   "metadata": {},
   "outputs": [],
   "source": [
    "def return_obj(obj):\n",
    "    \"\"\"Return the single input object\n",
    "    \n",
    "    For use with returning the masked array \n",
    "    created by zonal_stats()\"\"\"\n",
    "    return obj"
   ]
  },
  {
   "cell_type": "markdown",
   "id": "f3dfe676-f9fd-40ca-9783-776339f9a087",
   "metadata": {},
   "source": [
    "Call `zonal_stats` with the `add_stats` parameter as a dict of summarizing functions. ommitting a `stats` parameter returns all standard `stats`."
   ]
  },
  {
   "cell_type": "code",
   "execution_count": 8,
   "id": "59d9bfbb-df96-4c70-9ca1-4ef8507c35b8",
   "metadata": {},
   "outputs": [
    {
     "data": {
      "text/plain": [
       "[{'min': 155.0,\n",
       "  'max': 237.0,\n",
       "  'mean': 215.915611814346,\n",
       "  'count': 237,\n",
       "  'marr': masked_array(\n",
       "    data=[[--, --, --, ..., --, --, --],\n",
       "          [--, --, --, ..., --, --, --],\n",
       "          [--, --, --, ..., --, --, --],\n",
       "          ...,\n",
       "          [--, --, --, ..., --, --, --],\n",
       "          [--, --, --, ..., --, --, --],\n",
       "          [--, --, --, ..., --, --, --]],\n",
       "    mask=[[ True,  True,  True, ...,  True,  True,  True],\n",
       "          [ True,  True,  True, ...,  True,  True,  True],\n",
       "          [ True,  True,  True, ...,  True,  True,  True],\n",
       "          ...,\n",
       "          [ True,  True,  True, ...,  True,  True,  True],\n",
       "          [ True,  True,  True, ...,  True,  True,  True],\n",
       "          [ True,  True,  True, ...,  True,  True,  True]],\n",
       "    fill_value=1e+20)}]"
      ]
     },
     "execution_count": 8,
     "metadata": {},
     "output_type": "execute_result"
    }
   ],
   "source": [
    "zs = zonal_stats(\n",
    "    central_arctic_poly,\n",
    "    arr,\n",
    "    affine=affine,\n",
    "    nodata=np.nan,\n",
    "    add_stats={\"marr\": return_obj},\n",
    ")\n",
    "\n",
    "zs"
   ]
  },
  {
   "cell_type": "markdown",
   "id": "4e54743b-26d3-4315-aa71-d1436bebe568",
   "metadata": {},
   "source": [
    "`zonal_stats` clips the raster to the extent of the polygon (left), creates a mask of all values outside the polygon and nodata values inside of it (middle) to get a final set of data that would be summarized over with a typical function (right). "
   ]
  },
  {
   "cell_type": "code",
   "execution_count": 9,
   "id": "2f07519c-1044-405c-a964-6bf2f6c35bac",
   "metadata": {},
   "outputs": [
    {
     "data": {
      "image/png": "[encoded data removed]",
      "text/plain": [
       "<Figure size 720x288 with 3 Axes>"
      ]
     },
     "metadata": {
      "needs_background": "light"
     },
     "output_type": "display_data"
    }
   ],
   "source": [
    "fig, axs = plt.subplots(1, 3, figsize=(10, 4))\n",
    "\n",
    "axs[0].imshow(zs[0][\"marr\"].data)\n",
    "axs[0].set_title(\"clipped data extent\")\n",
    "\n",
    "axs[1].imshow(zs[0][\"marr\"].mask)\n",
    "axs[1].set_title(\"mask\")\n",
    "\n",
    "axs[2].imshow(zs[0][\"marr\"])\n",
    "axs[2].set_title(\"data within polygon\")\n",
    "\n",
    "plt.show()"
   ]
  },
  {
   "cell_type": "code",
   "execution_count": null,
   "id": "7f718762-3512-4275-b2ae-d713a11a1c92",
   "metadata": {},
   "outputs": [],
   "source": []
  }
 ],
 "metadata": {
  "kernelspec": {
   "display_name": "snap-geo",
   "language": "python",
   "name": "snap-geo"
  },
  "language_info": {
   "codemirror_mode": {
    "name": "ipython",
    "version": 3
   },
   "file_extension": ".py",
   "mimetype": "text/x-python",
   "name": "python",
   "nbconvert_exporter": "python",
   "pygments_lexer": "ipython3",
   "version": "3.8.3"
  }
 },
 "nbformat": 4,
 "nbformat_minor": 5
}
